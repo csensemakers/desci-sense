{
  "cells": [
    {
      "cell_type": "code",
      "execution_count": 7,
      "metadata": {
        "colab": {
          "base_uri": "https://localhost:8080/"
        },
        "id": "vDmsGtdFCOxJ",
        "outputId": "7e0c3c9f-a28a-4e27-e769-48cfc0bb48eb"
      },
      "outputs": [
        {
          "name": "stdout",
          "output_type": "stream",
          "text": [
            "Requirement already satisfied: wandb in /Users/shaharorielkagan/anaconda3/lib/python3.11/site-packages (0.16.2)\n",
            "Requirement already satisfied: Click!=8.0.0,>=7.1 in /Users/shaharorielkagan/anaconda3/lib/python3.11/site-packages (from wandb) (8.0.4)\n",
            "Requirement already satisfied: GitPython!=3.1.29,>=1.0.0 in /Users/shaharorielkagan/anaconda3/lib/python3.11/site-packages (from wandb) (3.1.41)\n",
            "Requirement already satisfied: requests<3,>=2.0.0 in /Users/shaharorielkagan/anaconda3/lib/python3.11/site-packages (from wandb) (2.31.0)\n",
            "Requirement already satisfied: psutil>=5.0.0 in /Users/shaharorielkagan/anaconda3/lib/python3.11/site-packages (from wandb) (5.9.0)\n",
            "Requirement already satisfied: sentry-sdk>=1.0.0 in /Users/shaharorielkagan/anaconda3/lib/python3.11/site-packages (from wandb) (1.39.2)\n",
            "Requirement already satisfied: docker-pycreds>=0.4.0 in /Users/shaharorielkagan/anaconda3/lib/python3.11/site-packages (from wandb) (0.4.0)\n",
            "Requirement already satisfied: PyYAML in /Users/shaharorielkagan/anaconda3/lib/python3.11/site-packages (from wandb) (6.0)\n",
            "Requirement already satisfied: setproctitle in /Users/shaharorielkagan/anaconda3/lib/python3.11/site-packages (from wandb) (1.3.3)\n",
            "Requirement already satisfied: setuptools in /Users/shaharorielkagan/anaconda3/lib/python3.11/site-packages (from wandb) (68.0.0)\n",
            "Requirement already satisfied: appdirs>=1.4.3 in /Users/shaharorielkagan/anaconda3/lib/python3.11/site-packages (from wandb) (1.4.4)\n",
            "Requirement already satisfied: protobuf!=4.21.0,<5,>=3.19.0 in /Users/shaharorielkagan/anaconda3/lib/python3.11/site-packages (from wandb) (4.25.2)\n",
            "Requirement already satisfied: six>=1.4.0 in /Users/shaharorielkagan/anaconda3/lib/python3.11/site-packages (from docker-pycreds>=0.4.0->wandb) (1.16.0)\n",
            "Requirement already satisfied: gitdb<5,>=4.0.1 in /Users/shaharorielkagan/anaconda3/lib/python3.11/site-packages (from GitPython!=3.1.29,>=1.0.0->wandb) (4.0.11)\n",
            "Requirement already satisfied: charset-normalizer<4,>=2 in /Users/shaharorielkagan/anaconda3/lib/python3.11/site-packages (from requests<3,>=2.0.0->wandb) (2.0.4)\n",
            "Requirement already satisfied: idna<4,>=2.5 in /Users/shaharorielkagan/anaconda3/lib/python3.11/site-packages (from requests<3,>=2.0.0->wandb) (3.4)\n",
            "Requirement already satisfied: urllib3<3,>=1.21.1 in /Users/shaharorielkagan/anaconda3/lib/python3.11/site-packages (from requests<3,>=2.0.0->wandb) (1.26.16)\n",
            "Requirement already satisfied: certifi>=2017.4.17 in /Users/shaharorielkagan/anaconda3/lib/python3.11/site-packages (from requests<3,>=2.0.0->wandb) (2023.7.22)\n",
            "Requirement already satisfied: smmap<6,>=3.0.1 in /Users/shaharorielkagan/anaconda3/lib/python3.11/site-packages (from gitdb<5,>=4.0.1->GitPython!=3.1.29,>=1.0.0->wandb) (5.0.1)\n"
          ]
        }
      ],
      "source": [
        "# prompt: pip install wandb\n",
        "\n",
        "!pip install wandb\n"
      ]
    },
    {
      "cell_type": "code",
      "execution_count": 2,
      "metadata": {
        "colab": {
          "base_uri": "https://localhost:8080/"
        },
        "id": "Uxz9EMn5BVtz",
        "outputId": "9c1122ed-f041-4677-c31d-232eeb5d1977"
      },
      "outputs": [
        {
          "name": "stderr",
          "output_type": "stream",
          "text": [
            "\u001b[34m\u001b[1mwandb\u001b[0m: Currently logged in as: \u001b[33mshahar-r-oriel\u001b[0m (\u001b[33mcommon-sense-makers\u001b[0m). Use \u001b[1m`wandb login --relogin`\u001b[0m to force relogin\n"
          ]
        },
        {
          "data": {
            "text/plain": [
              "True"
            ]
          },
          "execution_count": 2,
          "metadata": {},
          "output_type": "execute_result"
        }
      ],
      "source": [
        "# prompt: Connect to wandb using the key stored in the variable wandb_key and return list of runs\n",
        "\n",
        "import wandb\n",
        "wandb.login()\n",
        "\n"
      ]
    },
    {
      "cell_type": "code",
      "execution_count": 9,
      "metadata": {
        "colab": {
          "base_uri": "https://localhost:8080/"
        },
        "id": "Njjafr-he4nt",
        "outputId": "6d114f33-f0c9-4c45-a7c9-cf03f3cb8de1"
      },
      "outputs": [
        {
          "name": "stdout",
          "output_type": "stream",
          "text": [
            "desci-sense-notebooks_notebooks\n",
            "uncategorized\n",
            "pytorch-intro\n",
            "basic-intro\n",
            "st-app-multi-v1\n",
            "st-demo-sandbox\n",
            "st_demo-multi_v1_testing\n",
            "st_demo-multi_v1\n",
            "data_aggregation\n",
            "st_demo-v0.2\n"
          ]
        }
      ],
      "source": [
        "#list names of projects by common-sense-makers\n",
        "entity=\"common-sense-makers\"\n",
        "projects = wandb.api.list_projects(entity=entity)\n",
        "for project in projects:\n",
        "    print(project[\"name\"])"
      ]
    },
    {
      "cell_type": "code",
      "execution_count": 10,
      "metadata": {
        "id": "5qad1_K6hEyI"
      },
      "outputs": [],
      "source": [
        "project = \"st-app-multi-v1\"\n",
        "\n",
        "\n"
      ]
    },
    {
      "cell_type": "code",
      "execution_count": null,
      "metadata": {
        "colab": {
          "base_uri": "https://localhost:8080/",
          "height": 153,
          "referenced_widgets": [
            "2ab8a01ea31f4f6590a8ee703db2456e",
            "510253d7e28447368159d9254deb1bd3",
            "8621f47724cf41a78a4b9ba0966b6ea5",
            "afee94fec2294dfa89ed87b46ed0c6dd",
            "d84a96a42e314cd5b2ffad455572e921",
            "f00b6fb6107e405896d32e82dd4c5e0a",
            "f5353b6e7f4e48e494abe84bf8ff1076",
            "301ce7b8cfcd45c2aefa7bc0a972382e"
          ]
        },
        "id": "nVZBxBcNXgzy",
        "outputId": "834ed238-dde8-479b-e707-9eb54bf2e141"
      },
      "outputs": [
        {
          "data": {
            "text/html": [
              "Tracking run with wandb version 0.16.1"
            ],
            "text/plain": [
              "<IPython.core.display.HTML object>"
            ]
          },
          "metadata": {},
          "output_type": "display_data"
        },
        {
          "data": {
            "text/html": [
              "Run data is saved locally in <code>/content/wandb/run-20240106_041813-ewefy0yj</code>"
            ],
            "text/plain": [
              "<IPython.core.display.HTML object>"
            ]
          },
          "metadata": {},
          "output_type": "display_data"
        },
        {
          "data": {
            "text/html": [
              "Syncing run <strong><a href='https://wandb.ai/common-sense-makers/testing/runs/ewefy0yj' target=\"_blank\">zany-waterfall-15</a></strong> to <a href='https://wandb.ai/common-sense-makers/testing' target=\"_blank\">Weights & Biases</a> (<a href='https://wandb.me/run' target=\"_blank\">docs</a>)<br/>"
            ],
            "text/plain": [
              "<IPython.core.display.HTML object>"
            ]
          },
          "metadata": {},
          "output_type": "display_data"
        },
        {
          "data": {
            "text/html": [
              " View project at <a href='https://wandb.ai/common-sense-makers/testing' target=\"_blank\">https://wandb.ai/common-sense-makers/testing</a>"
            ],
            "text/plain": [
              "<IPython.core.display.HTML object>"
            ]
          },
          "metadata": {},
          "output_type": "display_data"
        },
        {
          "data": {
            "text/html": [
              " View run at <a href='https://wandb.ai/common-sense-makers/testing/runs/ewefy0yj' target=\"_blank\">https://wandb.ai/common-sense-makers/testing/runs/ewefy0yj</a>"
            ],
            "text/plain": [
              "<IPython.core.display.HTML object>"
            ]
          },
          "metadata": {},
          "output_type": "display_data"
        },
        {
          "data": {
            "application/vnd.jupyter.widget-view+json": {
              "model_id": "2ab8a01ea31f4f6590a8ee703db2456e",
              "version_major": 2,
              "version_minor": 0
            },
            "text/plain": [
              "VBox(children=(Label(value='0.085 MB of 0.085 MB uploaded\\r'), FloatProgress(value=1.0, max=1.0)))"
            ]
          },
          "metadata": {},
          "output_type": "display_data"
        },
        {
          "data": {
            "text/html": [
              " View run <strong style=\"color:#cdcd00\">zany-waterfall-15</strong> at: <a href='https://wandb.ai/common-sense-makers/testing/runs/ewefy0yj' target=\"_blank\">https://wandb.ai/common-sense-makers/testing/runs/ewefy0yj</a><br/>Synced 4 W&B file(s), 0 media file(s), 1 artifact file(s) and 0 other file(s)"
            ],
            "text/plain": [
              "<IPython.core.display.HTML object>"
            ]
          },
          "metadata": {},
          "output_type": "display_data"
        },
        {
          "data": {
            "text/html": [
              "Find logs at: <code>./wandb/run-20240106_041813-ewefy0yj/logs</code>"
            ],
            "text/plain": [
              "<IPython.core.display.HTML object>"
            ]
          },
          "metadata": {},
          "output_type": "display_data"
        }
      ],
      "source": [
        "#log data as json\n",
        "import wandb\n",
        "import pandas as pd\n",
        "\n",
        "# Assuming you have a DataFrame named df with your data\n",
        "df = pd.read_csv(\"/content/st_data.csv\")\n",
        "\n",
        "wandb.init(project=\"testing\")\n",
        "artifact = wandb.Artifact(\"labeled_data_v0\", type=\"dataset\")\n",
        "\n",
        "# Save the DataFrame to a JSON file\n",
        "json_path = \"/content/st_data.json\"\n",
        "df.to_json(json_path, orient=\"records\")\n",
        "\n",
        "# Add the JSON file to the artifact\n",
        "artifact.add_file(json_path, name=\"st_data.json\")\n",
        "\n",
        "# Log the artifact\n",
        "wandb.log_artifact(artifact, aliases=[\"latest\"])\n",
        "\n",
        "wandb.run.finish()\n"
      ]
    },
    {
      "cell_type": "code",
      "execution_count": 13,
      "metadata": {
        "colab": {
          "base_uri": "https://localhost:8080/",
          "height": 153,
          "referenced_widgets": [
            "8307e9813b8e4c738c59ec7612ecd2c2",
            "5a3dc362c0c9488985c6b7bd6d0290e9",
            "3eb4665ad4f946bd8d9ef7f1d7fbd9f5",
            "d5db689346534fa6bc936d9e6672d3c1",
            "0cdd4fd14b3b4afab3541b2694941d37",
            "ec96b21141e84b1d8a8c68940c9e799e",
            "0c129099b9b443e6adb05514682ee04f",
            "107f2b41ecfa46e08acb096d51d7a961"
          ]
        },
        "id": "mlZty8pp_xY2",
        "outputId": "fbf954ea-0a4d-42b0-a5f2-876444d10b5a"
      },
      "outputs": [
        {
          "data": {
            "text/html": [
              "wandb version 0.16.2 is available!  To upgrade, please run:\n",
              " $ pip install wandb --upgrade"
            ],
            "text/plain": [
              "<IPython.core.display.HTML object>"
            ]
          },
          "metadata": {},
          "output_type": "display_data"
        },
        {
          "data": {
            "text/html": [
              "Tracking run with wandb version 0.16.0"
            ],
            "text/plain": [
              "<IPython.core.display.HTML object>"
            ]
          },
          "metadata": {},
          "output_type": "display_data"
        },
        {
          "data": {
            "text/html": [
              "Run data is saved locally in <code>/Users/shaharorielkagan/Documents/Python/desci-sense/notebooks/wandb/run-20240112_104853-fva1en9e</code>"
            ],
            "text/plain": [
              "<IPython.core.display.HTML object>"
            ]
          },
          "metadata": {},
          "output_type": "display_data"
        },
        {
          "data": {
            "text/html": [
              "Syncing run <strong><a href='https://wandb.ai/common-sense-makers/testing/runs/fva1en9e' target=\"_blank\">dark-salad-24</a></strong> to <a href='https://wandb.ai/common-sense-makers/testing' target=\"_blank\">Weights & Biases</a> (<a href='https://wandb.me/run' target=\"_blank\">docs</a>)<br/>"
            ],
            "text/plain": [
              "<IPython.core.display.HTML object>"
            ]
          },
          "metadata": {},
          "output_type": "display_data"
        },
        {
          "data": {
            "text/html": [
              " View project at <a href='https://wandb.ai/common-sense-makers/testing' target=\"_blank\">https://wandb.ai/common-sense-makers/testing</a>"
            ],
            "text/plain": [
              "<IPython.core.display.HTML object>"
            ]
          },
          "metadata": {},
          "output_type": "display_data"
        },
        {
          "data": {
            "text/html": [
              " View run at <a href='https://wandb.ai/common-sense-makers/testing/runs/fva1en9e' target=\"_blank\">https://wandb.ai/common-sense-makers/testing/runs/fva1en9e</a>"
            ],
            "text/plain": [
              "<IPython.core.display.HTML object>"
            ]
          },
          "metadata": {},
          "output_type": "display_data"
        },
        {
          "name": "stderr",
          "output_type": "stream",
          "text": [
            "wandb: WARNING Source type is set to 'repo' but some required information is missing from the environment. A job will not be created from this run. See https://docs.wandb.ai/guides/launch/create-job\n"
          ]
        },
        {
          "data": {
            "application/vnd.jupyter.widget-view+json": {
              "model_id": "c75120594a824f69a3565824a8cc715c",
              "version_major": 2,
              "version_minor": 0
            },
            "text/plain": [
              "VBox(children=(Label(value='0.057 MB of 0.057 MB uploaded\\r'), FloatProgress(value=1.0, max=1.0)))"
            ]
          },
          "metadata": {},
          "output_type": "display_data"
        },
        {
          "data": {
            "text/html": [
              " View run <strong style=\"color:#cdcd00\">dark-salad-24</strong> at: <a href='https://wandb.ai/common-sense-makers/testing/runs/fva1en9e' target=\"_blank\">https://wandb.ai/common-sense-makers/testing/runs/fva1en9e</a><br/>Synced 4 W&B file(s), 0 media file(s), 1 artifact file(s) and 0 other file(s)"
            ],
            "text/plain": [
              "<IPython.core.display.HTML object>"
            ]
          },
          "metadata": {},
          "output_type": "display_data"
        },
        {
          "data": {
            "text/html": [
              "Find logs at: <code>./wandb/run-20240112_104853-fva1en9e/logs</code>"
            ],
            "text/plain": [
              "<IPython.core.display.HTML object>"
            ]
          },
          "metadata": {},
          "output_type": "display_data"
        }
      ],
      "source": [
        "#log dataset csv as wandb.Table object\n",
        "#which is also JSON but has nice display\n",
        "import wandb\n",
        "import pandas as pd\n",
        "from pathlib import Path\n",
        "\n",
        "# Assuming you have a DataFrame named df with your data\n",
        "#notebook_path = Path(os.getcwd())\n",
        "#sys.path.append(str(notebook_path.parents[1]))\n",
        "\n",
        "df = pd.read_csv(\"/Users/shaharorielkagan/Documents/Python/desci-sense/data/output_data.csv\")\n",
        "\n",
        "wandb.init(project=\"testing\")\n",
        "artifact = wandb.Artifact(\"labeled_data_v0\", type=\"dataset\")\n",
        "\n",
        "# Create a wandb.Table from the Pandas DataFrame\n",
        "table = wandb.Table(dataframe=df)\n",
        "\n",
        "# Add the wandb.Table to the artifact\n",
        "artifact.add(table, \"labeled_data_table\")\n",
        "\n",
        "# Log the artifact\n",
        "wandb.log_artifact(artifact, aliases=[\"latest\"])\n",
        "\n",
        "wandb.run.finish()\n"
      ]
    },
    {
      "attachments": {},
      "cell_type": "markdown",
      "metadata": {
        "id": "FgmckakTWEe6"
      },
      "source": [
        "This block imports a table from an artifact, whose path we must specify, and saves only the 'Text' and 'True Label' filed in a pd data frame. So later, we can evaluate predictions of models over the text entries. Remark, no reason to not get the full table as being done below."
      ]
    },
    {
      "cell_type": "code",
      "execution_count": 29,
      "metadata": {
        "colab": {
          "base_uri": "https://localhost:8080/"
        },
        "id": "7FK3G4-_STvT",
        "outputId": "361a1bc6-db8e-408c-8d89-72b4342deef6"
      },
      "outputs": [
        {
          "name": "stderr",
          "output_type": "stream",
          "text": [
            "\u001b[34m\u001b[1mwandb\u001b[0m:   1 of 1 files downloaded.  \n",
            "wandb: WARNING Source type is set to 'repo' but some required information is missing from the environment. A job will not be created from this run. See https://docs.wandb.ai/guides/launch/create-job\n"
          ]
        },
        {
          "name": "stdout",
          "output_type": "stream",
          "text": [
            "                                                 Text  \\\n",
            "0   Huge congrats to the team on this release. Hop...   \n",
            "1   Huge congrats to the team on this release. Hop...   \n",
            "2   \"Building a Data Pipeworks for Democratic AI: ...   \n",
            "3   I'll endorse this and double down: there's no ...   \n",
            "4   \"Ultimately, privacy law’s primary goal should...   \n",
            "5   The “singularity” to worry about, say ⁦@glenwe...   \n",
            "6   Join my lab as a postdoc in the Cognitive Scie...   \n",
            "7   Since writing this, I've found others studying...   \n",
            "8   Nice perspective paper on fixing activities be...   \n",
            "9   Some of my dissertation work was recently publ...   \n",
            "10  A new study published by PNAS adds more detail...   \n",
            "11  An explanation for why GPT-4 is degrading:\\n\\n...   \n",
            "12  This looks very interesting:\\n\"Secularism as M...   \n",
            "13  Test sets have 100s or even 1000s of examples\\...   \n",
            "14  From the abstract I can tell this is going to ...   \n",
            "15  Man, this paper is good: https://philpapers.or...   \n",
            "16  Good and balanced article: https://stackoverfl...   \n",
            "17  Good and balanced article: https://stackoverfl...   \n",
            "18  New paper: \"Grounding neuroscience in behavior...   \n",
            "19  Beyond Chinchilla-Optimal: Accounting for Infe...   \n",
            "20  New Preprint - Taining Zhang and @adamjgoldste...   \n",
            "21  An amazing discussion with Paul Cisek and @jma...   \n",
            "22  An amazing discussion with Paul Cisek and @jma...   \n",
            "23  My final book read of 2023 will also be my fir...   \n",
            "24  Cool talk by Nicholas Humphrey https://www.you...   \n",
            "25  I've argued for message passing being all we n...   \n",
            "26  Results from 192 effect sizes and over 2.5 mil...   \n",
            "27  We’ve all heard of place cells: neurons that f...   \n",
            "28  Last preprint by Chomsky and colleagues: \"Synt...   \n",
            "29  1/\\n\\nI have listened to many fascinating inte...   \n",
            "30  @TimChristiaens5 @mattpasquinelli I recently d...   \n",
            "31  First reading of the winterbreak, The Eye of t...   \n",
            "32  Are you an undergrad interested in NLP researc...   \n",
            "33  Persistent surveillance sold as a cure for lon...   \n",
            "34  Recommended: \"This paper proposes to establish...   \n",
            "35  Probably the best book I read about the 'digit...   \n",
            "36  Searching for an internship on #AI4Education u...   \n",
            "37  We just dropped a new preprint!\\n\\n\"Beyond net...   \n",
            "38  AI appears more rational than people:\\n\\nChatG...   \n",
            "39  We're hiring a chair of our excellent departme...   \n",
            "40  Friendly reminder: @UCSanDiego CSE is looking ...   \n",
            "41  People don't take a one-size-fits-all approach...   \n",
            "42  People don't take a one-size-fits-all approach...   \n",
            "\n",
            "                                       True Label  \n",
            "0                                    ['announce']  \n",
            "1                                    ['announce']  \n",
            "2                                    ['announce']  \n",
            "3                ['recommendation', 'discussion']  \n",
            "4                                       ['quote']  \n",
            "5                           ['quote', 'announce']  \n",
            "6                                         ['job']  \n",
            "7                      ['question', 'discussion']  \n",
            "8                ['recommendation', 'discussion']  \n",
            "9                                    ['announce']  \n",
            "10                                   ['announce']  \n",
            "11                        ['discussion', 'quote']  \n",
            "12                  ['recommendation', 'reading']  \n",
            "13                      ['reading', 'discussion']  \n",
            "14                                    ['reading']  \n",
            "15                   ['review', 'recommendation']  \n",
            "16        ['review', 'recommendation', 'reading']  \n",
            "17                  ['reading', 'recommendation']  \n",
            "18                                   ['announce']  \n",
            "19                                   ['announce']  \n",
            "20                     ['announce', 'discussion']  \n",
            "21                ['recommendation', 'listening']  \n",
            "22                    ['discussion', 'listening']  \n",
            "23                  ['reading', 'recommendation']  \n",
            "24   ['discussion', 'recommendation', 'watching']  \n",
            "25               ['recommendation', 'discussion']  \n",
            "26                                 ['discussion']  \n",
            "27                                   ['announce']  \n",
            "28                                   ['announce']  \n",
            "29  ['recommendation', 'discussion', 'listening']  \n",
            "30                ['recommendation', 'listening']  \n",
            "31                                    ['reading']  \n",
            "32                                        ['job']  \n",
            "33                      ['discussion', 'reading']  \n",
            "34                 ['announce', 'recommendation']  \n",
            "35         ['recommendation', 'reading', 'event']  \n",
            "36                                        ['job']  \n",
            "37                                   ['announce']  \n",
            "38            ['announce', 'discussion', 'quote']  \n",
            "39                                        ['job']  \n",
            "40                                        ['job']  \n",
            "41                                   ['announce']  \n",
            "42                                   ['announce']  \n"
          ]
        }
      ],
      "source": [
        "#download a table from datasetartifact\n",
        "#save it in a dataframe\n",
        "path = \"common-sense-makers/testing/labeled_data_v0:v5\"\n",
        "\n",
        "import wandb\n",
        "from pathlib import Path\n",
        "import json\n",
        "import pandas as pd\n",
        "\n",
        "\n",
        "api = wandb.Api()\n",
        "artifact = api.artifact(path)\n",
        "\n",
        "#download path to table\n",
        "a_path = artifact.download()\n",
        "table_path = Path(f\"{a_path}/labeled_data_table.table.json\")\n",
        "raw_data = json.load(table_path.open())\n",
        "\n",
        "#put it in a dataframe\n",
        "x = raw_data[\"columns\"].index('Text')\n",
        "y = raw_data[\"columns\"].index('True Label')\n",
        "\n",
        "#Add id\n",
        "\n",
        "try:\n",
        "  rows = [{'Text': raw_data[\"data\"][i][x], 'True Label': raw_data[\"data\"][i][y]} for i in range(len(raw_data[\"data\"]))]\n",
        "except Exception as e:\n",
        "  print(f\"Exception occurred: {e}\")\n",
        "\n",
        "df = pd.DataFrame(rows)\n",
        "\n",
        "print(df)\n"
      ]
    },
    {
      "attachments": {},
      "cell_type": "markdown",
      "metadata": {},
      "source": [
        "Get the entire table"
      ]
    },
    {
      "cell_type": "code",
      "execution_count": 72,
      "metadata": {},
      "outputs": [
        {
          "name": "stderr",
          "output_type": "stream",
          "text": [
            "\u001b[34m\u001b[1mwandb\u001b[0m:   1 of 1 files downloaded.  \n",
            "wandb: WARNING Source type is set to 'repo' but some required information is missing from the environment. A job will not be created from this run. See https://docs.wandb.ai/guides/launch/create-job\n"
          ]
        },
        {
          "name": "stdout",
          "output_type": "stream",
          "text": [
            "                                                 User  \\\n",
            "0                                                 rtk   \n",
            "1                                        Nick Vincent   \n",
            "2                                        Nick Vincent   \n",
            "3                    p(Alex Kiefer | everything else)   \n",
            "4                                       Abeba Birhane   \n",
            "5                                         Nils Gilman   \n",
            "6                                      Tania Lombrozo   \n",
            "7                                  Elizabeth McDaniel   \n",
            "8                                   Kording —-& Lab 🦖   \n",
            "9                                    Zr. Nabu Kudurru   \n",
            "10                                 J. Nathan Matias 🦣   \n",
            "11  rtk - https://twitter.com/ChombaBupe/status/17...   \n",
            "12                                         Tim Howles   \n",
            "13                               ♻️ Leshem Choshen ♻️   \n",
            "14  rtk - https://mastodon.social/@jonny@neuromatc...   \n",
            "15                                   Mx. Aria Stewart   \n",
            "16   Filip Piekniewski🌻 🐘:@filippie509@techhub.social   \n",
            "17   Filip Piekniewski🌻 🐘:@filippie509@techhub.social   \n",
            "18                                      Grace Lindsay   \n",
            "19                                   Aran Komatsuzaki   \n",
            "20                                      Michael Levin   \n",
            "21                                     Kevin Mitchell   \n",
            "22                                     Kevin Mitchell   \n",
            "23  https://twitter.com/ToddLaVogue/status/1741144...   \n",
            "24                                      Michael Levin   \n",
            "25                                   Petar Veličković   \n",
            "26                                 Jay Van Bavel, PhD   \n",
            "27                                   Mohamady El-Gaby   \n",
            "28                                  A.Benítez-Burraco   \n",
            "29                                       Benjamin Han   \n",
            "30                                                 nk   \n",
            "31  https://twitter.com/TimChristiaens5/status/173...   \n",
            "32                                      Jacob Andreas   \n",
            "33                                 Meredith Whittaker   \n",
            "34                                         petersuber   \n",
            "35  https://twitter.com/mbauwens/status/1738764509...   \n",
            "36                                Pierre-Yves Oudeyer   \n",
            "37                Yogi Jaeger 💙 @yoginho@spore.social   \n",
            "38                                 Jay Van Bavel, PhD   \n",
            "39                                       Beth Morling   \n",
            "40                                           UCSD CSE   \n",
            "41                                                rtk   \n",
            "42                                        CoCoSci MIT   \n",
            "\n",
            "                                                  URL  \\\n",
            "0                                                None   \n",
            "1   https://twitter.com/nickmvincent/status/171695...   \n",
            "2   https://twitter.com/nickmvincent/status/172421...   \n",
            "3   https://twitter.com/exilefaker/status/17444679...   \n",
            "4   https://twitter.com/Abebab/status/174379520169...   \n",
            "5   https://twitter.com/nils_gilman/status/1743812...   \n",
            "6   https://twitter.com/TaniaLombrozo/status/17227...   \n",
            "7   https://twitter.com/lizilla93/status/174297882...   \n",
            "8   https://twitter.com/KordingLab/status/17428951...   \n",
            "9   https://twitter.com/BrettButtliere/status/1725...   \n",
            "10  https://social.coop/@natematias/11158816356041...   \n",
            "11                                               None   \n",
            "12  https://twitter.com/AimeTim/status/17421089854...   \n",
            "13  https://twitter.com/LChoshen/status/1742173831...   \n",
            "14                                               None   \n",
            "15  https://kolektiva.social/@aredridel/1115878952...   \n",
            "16  https://twitter.com/filippie509/status/1735357...   \n",
            "17  https://twitter.com/filippie509/status/1735357...   \n",
            "18  https://mastodon.online/@Neurograce/1115292057...   \n",
            "19  https://twitter.com/arankomatsuzaki/status/174...   \n",
            "20  https://twitter.com/drmichaellevin/status/1736...   \n",
            "21  https://twitter.com/WiringTheBrain/status/1736...   \n",
            "22  https://twitter.com/WiringTheBrain/status/1736...   \n",
            "23                                               None   \n",
            "24  https://twitter.com/drmichaellevin/status/1741...   \n",
            "25  https://twitter.com/PetarV_93/status/166075104...   \n",
            "26  https://twitter.com/jayvanbavel/status/1740388...   \n",
            "27  https://twitter.com/GabyMohamady/status/174005...   \n",
            "28  https://twitter.com/abenitezburraco/status/174...   \n",
            "29  https://sigmoid.social/@BenjaminHan/1116452492...   \n",
            "30  https://twitter.com/subcountability/status/173...   \n",
            "31                                               None   \n",
            "32  https://twitter.com/jacobandreas/status/173937...   \n",
            "33  https://mastodon.world/@Mer__edith/11163736328...   \n",
            "34  https://fediscience.org/@petersuber/1116360367...   \n",
            "35                                               None   \n",
            "36  https://twitter.com/pyoudeyer/status/173820310...   \n",
            "37  https://twitter.com/yoginho/status/17382053644...   \n",
            "38  https://twitter.com/jayvanbavel/status/1737906...   \n",
            "39  https://twitter.com/bmorling/status/1738016895...   \n",
            "40  https://twitter.com/ucsd_cse/status/1737935386...   \n",
            "41                                               None   \n",
            "42  https://twitter.com/MITCoCoSci/status/17379481...   \n",
            "\n",
            "                                                 Text  \\\n",
            "0   Huge congrats to the team on this release. Hop...   \n",
            "1   Huge congrats to the team on this release. Hop...   \n",
            "2   \"Building a Data Pipeworks for Democratic AI: ...   \n",
            "3   I'll endorse this and double down: there's no ...   \n",
            "4   \"Ultimately, privacy law’s primary goal should...   \n",
            "5   The “singularity” to worry about, say ⁦@glenwe...   \n",
            "6   Join my lab as a postdoc in the Cognitive Scie...   \n",
            "7   Since writing this, I've found others studying...   \n",
            "8   Nice perspective paper on fixing activities be...   \n",
            "9   Some of my dissertation work was recently publ...   \n",
            "10  A new study published by PNAS adds more detail...   \n",
            "11  An explanation for why GPT-4 is degrading:\\n\\n...   \n",
            "12  This looks very interesting:\\n\"Secularism as M...   \n",
            "13  Test sets have 100s or even 1000s of examples\\...   \n",
            "14  From the abstract I can tell this is going to ...   \n",
            "15  Man, this paper is good: https://philpapers.or...   \n",
            "16  Good and balanced article: https://stackoverfl...   \n",
            "17  Good and balanced article: https://stackoverfl...   \n",
            "18  New paper: \"Grounding neuroscience in behavior...   \n",
            "19  Beyond Chinchilla-Optimal: Accounting for Infe...   \n",
            "20  New Preprint - Taining Zhang and @adamjgoldste...   \n",
            "21  An amazing discussion with Paul Cisek and @jma...   \n",
            "22  An amazing discussion with Paul Cisek and @jma...   \n",
            "23  My final book read of 2023 will also be my fir...   \n",
            "24  Cool talk by Nicholas Humphrey https://www.you...   \n",
            "25  I've argued for message passing being all we n...   \n",
            "26  Results from 192 effect sizes and over 2.5 mil...   \n",
            "27  We’ve all heard of place cells: neurons that f...   \n",
            "28  Last preprint by Chomsky and colleagues: \"Synt...   \n",
            "29  1/\\n\\nI have listened to many fascinating inte...   \n",
            "30  @TimChristiaens5 @mattpasquinelli I recently d...   \n",
            "31  First reading of the winterbreak, The Eye of t...   \n",
            "32  Are you an undergrad interested in NLP researc...   \n",
            "33  Persistent surveillance sold as a cure for lon...   \n",
            "34  Recommended: \"This paper proposes to establish...   \n",
            "35  Probably the best book I read about the 'digit...   \n",
            "36  Searching for an internship on #AI4Education u...   \n",
            "37  We just dropped a new preprint!\\n\\n\"Beyond net...   \n",
            "38  AI appears more rational than people:\\n\\nChatG...   \n",
            "39  We're hiring a chair of our excellent departme...   \n",
            "40  Friendly reminder: @UCSanDiego CSE is looking ...   \n",
            "41  People don't take a one-size-fits-all approach...   \n",
            "42  People don't take a one-size-fits-all approach...   \n",
            "\n",
            "                                      Reasoning Steps  \\\n",
            "0   [Reasoning Steps]\\n\\n1. The post is a reply to...   \n",
            "1   [Reasoning Steps]\\n\\n1. The post does not cont...   \n",
            "2   [Reasoning Steps]\\n\\n1. The post seems to be r...   \n",
            "3   [Reasoning Steps]\\n\\n1. The user is expressing...   \n",
            "4   [Reasoning Steps]\\n\\n1. Identify the main topi...   \n",
            "5   [Reasoning Steps]\\n\\n1. The post mentions the ...   \n",
            "6   [Reasoning Steps]\\n\\n1. The post is describing...   \n",
            "7   [Reasoning Steps]\\n\\n1. The post is discussing...   \n",
            "8   [Reasoning Steps]\\n\\n1. The post is discussing...   \n",
            "9   [Reasoning Steps]\\n\\n1. The user mentions that...   \n",
            "10  [Reasoning Steps]\\n\\n1. The post is about a ne...   \n",
            "11  [Reasoning Steps]\\n\\n1. The given post discuss...   \n",
            "12  [Reasoning Steps]\\n\\n1. The post is sharing a ...   \n",
            "13  [Reasoning Steps]\\n\\n1. The post is discussing...   \n",
            "14  [Reasoning Steps]\\n\\n1. The user expresses exc...   \n",
            "15  [Reasoning Steps]\\n\\n1. The post is expressing...   \n",
            "16  [Reasoning Steps]\\n\\n1. The post contains an a...   \n",
            "17  [Reasoning Steps]\\n\\n1. The post is sharing a ...   \n",
            "18  [Reasoning Steps]\\n\\n1. The post is announcing...   \n",
            "19  [Reasoning Steps]\\n\\n1. The post announces a n...   \n",
            "20  [Reasoning Steps]\\n\\n1. The post is about a ne...   \n",
            "21  [Reasoning Steps]\\n\\n1. The post contains a di...   \n",
            "22  [Reasoning Steps]\\n\\n1. The post contains a di...   \n",
            "23  [Reasoning Steps]\\n\\n1. The post is about a bo...   \n",
            "24  [Reasoning Steps]\\n\\n1. The post contains a li...   \n",
            "25  [Reasoning Steps]\\n\\n1. The post contains an a...   \n",
            "26  [Reasoning Steps]\\n\\n1. The post discusses the...   \n",
            "27  [Reasoning Steps]\\n\\n[System error: failed to ...   \n",
            "28  [Reasoning Steps]\\n\\n[System error: failed to ...   \n",
            "29  [Reasoning Steps]\\n\\n1. The post is about a po...   \n",
            "30  [Reasoning Steps]\\n\\n1. The post mentions a po...   \n",
            "31  [Reasoning Steps]\\n\\n1. The post is about a bo...   \n",
            "32  [Reasoning Steps]\\n\\n1. The post is about an o...   \n",
            "33  [Reasoning Steps]\\n\\n1. The post discusses the...   \n",
            "34  [Reasoning Steps]\\n\\n1. The post contains info...   \n",
            "35  [Reasoning Steps]\\n\\n1. The post describes a b...   \n",
            "36  [Reasoning Steps]\\n\\n1. The post discusses job...   \n",
            "37  [Reasoning Steps]\\n\\n**\\n1. First, we need to ...   \n",
            "38  [Reasoning Steps]\\n\\n* Firstly, we need to det...   \n",
            "39  [Reasoning Steps]\\n\\n1. Firstly, we need to ch...   \n",
            "40  [Reasoning Steps]\\n\\n1. Check if there is an a...   \n",
            "41  [Reasoning Steps]\\n\\n[System error: failed to ...   \n",
            "42  [Reasoning Steps]\\n\\n1. Based on the first sen...   \n",
            "\n",
            "                                      Predicted Label  \\\n",
            "0   <announce>, <discussion>\\n\\nExplanation:\\nThe ...   \n",
            "1                                                None   \n",
            "2                                             <other>   \n",
            "3                                    <recommendation>   \n",
            "4                                             <other>   \n",
            "5   <other>\\n\\nExplanation:\\nThe post is presentin...   \n",
            "6                                               <job>   \n",
            "7          <discussion>, <recommendation>, <question>   \n",
            "8                      <discussion>, <recommendation>   \n",
            "9                                          <announce>   \n",
            "10                                         <announce>   \n",
            "11                                       <discussion>   \n",
            "12                         <recommendation, announce>   \n",
            "13          <discussion>, <reading>, <recommendation>   \n",
            "14                        <reading>, <recommendation>   \n",
            "15                         <review>, <recommendation>   \n",
            "16                               announce, discussion   \n",
            "17                                       <discussion>   \n",
            "18                                         <announce>   \n",
            "19  * announce: The post announces a new research ...   \n",
            "20                           <announce>, <discussion>   \n",
            "21                                       <discussion>   \n",
            "22                            <discussion>, <podcast>   \n",
            "23      1. <recommendation>\\n2. <reading>\\n3. <event>   \n",
            "24  1. recommendation\\n2. discussion\\n3. announce\\...   \n",
            "25                       <announce>, <recommendation>   \n",
            "26                                       <discussion>   \n",
            "27                                <announce>, <other>   \n",
            "28                                         <announce>   \n",
            "29   <event>, <discussion>, <recommendation>, <other>   \n",
            "30  <watching>, <recommendation>, <discussion>, <d...   \n",
            "31                            1. <reading>\\n2. <book>   \n",
            "32            <job>, <event>, <discussion>, <reading>   \n",
            "33                                       <discussion>   \n",
            "34  1. <announce>\\n2. <discussion>\\n3. <review>\\n4...   \n",
            "35               <recommendation>, <reading>, <event>   \n",
            "36                                              <job>   \n",
            "37             **\\n[Announcement, Networks, Critique]   \n",
            "38                       <announce>, <recommendation>   \n",
            "39                                   {<job>, <other>}   \n",
            "40                   <job>, <recommendation>, <other>   \n",
            "41                             <discussion><announce>   \n",
            "42                                            <quote>   \n",
            "\n",
            "                                       True Label  \\\n",
            "0                                    ['announce']   \n",
            "1                                    ['announce']   \n",
            "2                                    ['announce']   \n",
            "3                ['recommendation', 'discussion']   \n",
            "4                                       ['quote']   \n",
            "5                           ['quote', 'announce']   \n",
            "6                                         ['job']   \n",
            "7                      ['question', 'discussion']   \n",
            "8                ['recommendation', 'discussion']   \n",
            "9                                    ['announce']   \n",
            "10                                   ['announce']   \n",
            "11                        ['discussion', 'quote']   \n",
            "12                  ['recommendation', 'reading']   \n",
            "13                      ['reading', 'discussion']   \n",
            "14                                    ['reading']   \n",
            "15                   ['review', 'recommendation']   \n",
            "16        ['review', 'recommendation', 'reading']   \n",
            "17                  ['reading', 'recommendation']   \n",
            "18                                   ['announce']   \n",
            "19                                   ['announce']   \n",
            "20                     ['announce', 'discussion']   \n",
            "21                ['recommendation', 'listening']   \n",
            "22                    ['discussion', 'listening']   \n",
            "23                  ['reading', 'recommendation']   \n",
            "24   ['discussion', 'recommendation', 'watching']   \n",
            "25               ['recommendation', 'discussion']   \n",
            "26                                 ['discussion']   \n",
            "27                                   ['announce']   \n",
            "28                                   ['announce']   \n",
            "29  ['recommendation', 'discussion', 'listening']   \n",
            "30                ['recommendation', 'listening']   \n",
            "31                                    ['reading']   \n",
            "32                                        ['job']   \n",
            "33                      ['discussion', 'reading']   \n",
            "34                 ['announce', 'recommendation']   \n",
            "35         ['recommendation', 'reading', 'event']   \n",
            "36                                        ['job']   \n",
            "37                                   ['announce']   \n",
            "38            ['announce', 'discussion', 'quote']   \n",
            "39                                        ['job']   \n",
            "40                                        ['job']   \n",
            "41                                   ['announce']   \n",
            "42                                   ['announce']   \n",
            "\n",
            "                               Name of Label Provider Post Source  \n",
            "0                                                 rtk  user input  \n",
            "1                                                 rtk     twitter  \n",
            "2                                                 rtk     twitter  \n",
            "3                                                 rtk     twitter  \n",
            "4                                                None     twitter  \n",
            "5                                                 rtk     twitter  \n",
            "6                                                None     twitter  \n",
            "7                                                 rtk     twitter  \n",
            "8                                                 rtk     twitter  \n",
            "9                                                 rtk     twitter  \n",
            "10                                                rtk    mastodon  \n",
            "11  rtk - https://twitter.com/ChombaBupe/status/17...  user input  \n",
            "12                                                rtk     twitter  \n",
            "13                                                rtk     twitter  \n",
            "14  rtk - https://mastodon.social/@jonny@neuromatc...  user input  \n",
            "15                                                rtk    mastodon  \n",
            "16                                                rtk     twitter  \n",
            "17                                                rtk     twitter  \n",
            "18                                                rtk    mastodon  \n",
            "19                                                rtk     twitter  \n",
            "20                                                rtk     twitter  \n",
            "21  rtk - this is the correct label, not previous one     twitter  \n",
            "22                                                rtk     twitter  \n",
            "23  https://twitter.com/ToddLaVogue/status/1741144...  user input  \n",
            "24                                                rtk     twitter  \n",
            "25                                                rtk     twitter  \n",
            "26                                                rtk     twitter  \n",
            "27                                                rtk     twitter  \n",
            "28                                                rtk     twitter  \n",
            "29                                                rtk    mastodon  \n",
            "30                                                rtk     twitter  \n",
            "31  https://twitter.com/TimChristiaens5/status/173...  user input  \n",
            "32                                                rtk     twitter  \n",
            "33                                                rtk    mastodon  \n",
            "34                                                rtk    mastodon  \n",
            "35  https://twitter.com/mbauwens/status/1738764509...  user input  \n",
            "36                                                rtk     twitter  \n",
            "37                                                rtk     twitter  \n",
            "38                                                rtk     twitter  \n",
            "39                                               None     twitter  \n",
            "40                                                rtk     twitter  \n",
            "41                                                rtk  user input  \n",
            "42                                                rtk     twitter  \n"
          ]
        }
      ],
      "source": [
        "#download a table from datasetartifact\n",
        "#save it in a dataframe\n",
        "path = \"common-sense-makers/testing/labeled_data_v0:v5\"\n",
        "\n",
        "import wandb\n",
        "from pathlib import Path\n",
        "import json\n",
        "import pandas as pd\n",
        "\n",
        "\n",
        "api = wandb.Api()\n",
        "artifact = api.artifact(path)\n",
        "\n",
        "#download path to table\n",
        "a_path = artifact.download()\n",
        "table_path = Path(f\"{a_path}/labeled_data_table.table.json\")\n",
        "raw_data = json.load(table_path.open())\n",
        "\n",
        "#Add id\n",
        "\n",
        "try:\n",
        "  rows = [dict(zip(raw_data['columns'],raw_data['data'][i])) for i in range(len(raw_data[\"data\"]))]\n",
        "except Exception as e:\n",
        "  print(f\"Exception occurred: {e}\")\n",
        "\n",
        "df = pd.DataFrame(rows)\n",
        "\n",
        "print(df)"
      ]
    },
    {
      "attachments": {},
      "cell_type": "markdown",
      "metadata": {},
      "source": [
        "## Binarize and evaluate\n",
        "Here we will get a table with predictions and calculate scores. No need to do this if we get the entire table \n"
      ]
    },
    {
      "cell_type": "code",
      "execution_count": 51,
      "metadata": {},
      "outputs": [
        {
          "name": "stderr",
          "output_type": "stream",
          "text": [
            "\u001b[34m\u001b[1mwandb\u001b[0m:   1 of 1 files downloaded.  \n",
            "wandb: WARNING Source type is set to 'repo' but some required information is missing from the environment. A job will not be created from this run. See https://docs.wandb.ai/guides/launch/create-job\n"
          ]
        },
        {
          "name": "stdout",
          "output_type": "stream",
          "text": [
            "                                                 Text  \\\n",
            "0   Huge congrats to the team on this release. Hop...   \n",
            "1   Huge congrats to the team on this release. Hop...   \n",
            "2   \"Building a Data Pipeworks for Democratic AI: ...   \n",
            "3   I'll endorse this and double down: there's no ...   \n",
            "4   \"Ultimately, privacy law’s primary goal should...   \n",
            "5   The “singularity” to worry about, say ⁦@glenwe...   \n",
            "6   Join my lab as a postdoc in the Cognitive Scie...   \n",
            "7   Since writing this, I've found others studying...   \n",
            "8   Nice perspective paper on fixing activities be...   \n",
            "9   Some of my dissertation work was recently publ...   \n",
            "10  A new study published by PNAS adds more detail...   \n",
            "11  An explanation for why GPT-4 is degrading:\\n\\n...   \n",
            "12  This looks very interesting:\\n\"Secularism as M...   \n",
            "13  Test sets have 100s or even 1000s of examples\\...   \n",
            "14  From the abstract I can tell this is going to ...   \n",
            "15  Man, this paper is good: https://philpapers.or...   \n",
            "16  Good and balanced article: https://stackoverfl...   \n",
            "17  Good and balanced article: https://stackoverfl...   \n",
            "18  New paper: \"Grounding neuroscience in behavior...   \n",
            "19  Beyond Chinchilla-Optimal: Accounting for Infe...   \n",
            "20  New Preprint - Taining Zhang and @adamjgoldste...   \n",
            "21  An amazing discussion with Paul Cisek and @jma...   \n",
            "22  An amazing discussion with Paul Cisek and @jma...   \n",
            "23  My final book read of 2023 will also be my fir...   \n",
            "24  Cool talk by Nicholas Humphrey https://www.you...   \n",
            "25  I've argued for message passing being all we n...   \n",
            "26  Results from 192 effect sizes and over 2.5 mil...   \n",
            "27  We’ve all heard of place cells: neurons that f...   \n",
            "28  Last preprint by Chomsky and colleagues: \"Synt...   \n",
            "29  1/\\n\\nI have listened to many fascinating inte...   \n",
            "30  @TimChristiaens5 @mattpasquinelli I recently d...   \n",
            "31  First reading of the winterbreak, The Eye of t...   \n",
            "32  Are you an undergrad interested in NLP researc...   \n",
            "33  Persistent surveillance sold as a cure for lon...   \n",
            "34  Recommended: \"This paper proposes to establish...   \n",
            "35  Probably the best book I read about the 'digit...   \n",
            "36  Searching for an internship on #AI4Education u...   \n",
            "37  We just dropped a new preprint!\\n\\n\"Beyond net...   \n",
            "38  AI appears more rational than people:\\n\\nChatG...   \n",
            "39  We're hiring a chair of our excellent departme...   \n",
            "40  Friendly reminder: @UCSanDiego CSE is looking ...   \n",
            "41  People don't take a one-size-fits-all approach...   \n",
            "42  People don't take a one-size-fits-all approach...   \n",
            "\n",
            "                                       True Label  \\\n",
            "0                                    ['announce']   \n",
            "1                                    ['announce']   \n",
            "2                                    ['announce']   \n",
            "3                ['recommendation', 'discussion']   \n",
            "4                                       ['quote']   \n",
            "5                           ['quote', 'announce']   \n",
            "6                                         ['job']   \n",
            "7                      ['question', 'discussion']   \n",
            "8                ['recommendation', 'discussion']   \n",
            "9                                    ['announce']   \n",
            "10                                   ['announce']   \n",
            "11                        ['discussion', 'quote']   \n",
            "12                  ['recommendation', 'reading']   \n",
            "13                      ['reading', 'discussion']   \n",
            "14                                    ['reading']   \n",
            "15                   ['review', 'recommendation']   \n",
            "16        ['review', 'recommendation', 'reading']   \n",
            "17                  ['reading', 'recommendation']   \n",
            "18                                   ['announce']   \n",
            "19                                   ['announce']   \n",
            "20                     ['announce', 'discussion']   \n",
            "21                ['recommendation', 'listening']   \n",
            "22                    ['discussion', 'listening']   \n",
            "23                  ['reading', 'recommendation']   \n",
            "24   ['discussion', 'recommendation', 'watching']   \n",
            "25               ['recommendation', 'discussion']   \n",
            "26                                 ['discussion']   \n",
            "27                                   ['announce']   \n",
            "28                                   ['announce']   \n",
            "29  ['recommendation', 'discussion', 'listening']   \n",
            "30                ['recommendation', 'listening']   \n",
            "31                                    ['reading']   \n",
            "32                                        ['job']   \n",
            "33                      ['discussion', 'reading']   \n",
            "34                 ['announce', 'recommendation']   \n",
            "35         ['recommendation', 'reading', 'event']   \n",
            "36                                        ['job']   \n",
            "37                                   ['announce']   \n",
            "38            ['announce', 'discussion', 'quote']   \n",
            "39                                        ['job']   \n",
            "40                                        ['job']   \n",
            "41                                   ['announce']   \n",
            "42                                   ['announce']   \n",
            "\n",
            "                                      Predicted Label  \n",
            "0   <announce>, <discussion>\\n\\nExplanation:\\nThe ...  \n",
            "1                                                None  \n",
            "2                                             <other>  \n",
            "3                                    <recommendation>  \n",
            "4                                             <other>  \n",
            "5   <other>\\n\\nExplanation:\\nThe post is presentin...  \n",
            "6                                               <job>  \n",
            "7          <discussion>, <recommendation>, <question>  \n",
            "8                      <discussion>, <recommendation>  \n",
            "9                                          <announce>  \n",
            "10                                         <announce>  \n",
            "11                                       <discussion>  \n",
            "12                         <recommendation, announce>  \n",
            "13          <discussion>, <reading>, <recommendation>  \n",
            "14                        <reading>, <recommendation>  \n",
            "15                         <review>, <recommendation>  \n",
            "16                               announce, discussion  \n",
            "17                                       <discussion>  \n",
            "18                                         <announce>  \n",
            "19  * announce: The post announces a new research ...  \n",
            "20                           <announce>, <discussion>  \n",
            "21                                       <discussion>  \n",
            "22                            <discussion>, <podcast>  \n",
            "23      1. <recommendation>\\n2. <reading>\\n3. <event>  \n",
            "24  1. recommendation\\n2. discussion\\n3. announce\\...  \n",
            "25                       <announce>, <recommendation>  \n",
            "26                                       <discussion>  \n",
            "27                                <announce>, <other>  \n",
            "28                                         <announce>  \n",
            "29   <event>, <discussion>, <recommendation>, <other>  \n",
            "30  <watching>, <recommendation>, <discussion>, <d...  \n",
            "31                            1. <reading>\\n2. <book>  \n",
            "32            <job>, <event>, <discussion>, <reading>  \n",
            "33                                       <discussion>  \n",
            "34  1. <announce>\\n2. <discussion>\\n3. <review>\\n4...  \n",
            "35               <recommendation>, <reading>, <event>  \n",
            "36                                              <job>  \n",
            "37             **\\n[Announcement, Networks, Critique]  \n",
            "38                       <announce>, <recommendation>  \n",
            "39                                   {<job>, <other>}  \n",
            "40                   <job>, <recommendation>, <other>  \n",
            "41                             <discussion><announce>  \n",
            "42                                            <quote>  \n"
          ]
        }
      ],
      "source": [
        "#same cell as above only with \"Predicted_Labels\"\n",
        "#download a table from datasetartifact\n",
        "#save it in a dataframe\n",
        "path = \"common-sense-makers/testing/labeled_data_v0:latest\"\n",
        "\n",
        "import wandb\n",
        "from pathlib import Path\n",
        "import json\n",
        "import pandas as pd\n",
        "\n",
        "\n",
        "api = wandb.Api()\n",
        "artifact = api.artifact(path)\n",
        "\n",
        "#download path to table\n",
        "a_path = artifact.download()\n",
        "table_path = Path(f\"{a_path}/labeled_data_table.table.json\")\n",
        "raw_data = json.load(table_path.open())\n",
        "\n",
        "#put it in a dataframe\n",
        "x = raw_data[\"columns\"].index('Text')\n",
        "y = raw_data[\"columns\"].index('True Label')\n",
        "z = raw_data[\"columns\"].index('Predicted Label')\n",
        "\n",
        "try:\n",
        "  rows = [{'Text': raw_data[\"data\"][i][x], 'True Label': raw_data[\"data\"][i][y], 'Predicted Label': raw_data['data'][i][z]} for i in range(len(raw_data[\"data\"]))]\n",
        "except Exception as e:\n",
        "  print(f\"Exception occurred: {e}\")\n",
        "\n",
        "df = pd.DataFrame(rows)\n",
        "\n",
        "print(df)"
      ]
    },
    {
      "cell_type": "code",
      "execution_count": 73,
      "metadata": {},
      "outputs": [],
      "source": [
        "import re\n",
        "# Assuming each label is a single word and there are no spaces in labels\n",
        "# This will remove all non-word characters and split the string into words\n",
        "df['True Label'] = df['True Label'].apply(lambda x: re.sub(r'\\W+', ' ', x).split())\n",
        "\n",
        "# Replace None with an empty list in 'Predicted label'\n",
        "df['Predicted Label'] = df['Predicted Label'].apply(lambda x: '' if pd.isnull(x) else x)    \n",
        "df['Predicted Label'] = df['Predicted Label'].apply(lambda x: re.sub(r'\\W+', ' ', x).split())\n",
        "\n"
      ]
    },
    {
      "cell_type": "code",
      "execution_count": 82,
      "metadata": {},
      "outputs": [
        {
          "name": "stdout",
          "output_type": "stream",
          "text": [
            "0                                  [announce]\n",
            "1                                  [announce]\n",
            "2                                  [announce]\n",
            "3                [recommendation, discussion]\n",
            "4                                     [quote]\n",
            "5                           [quote, announce]\n",
            "6                                       [job]\n",
            "7                      [question, discussion]\n",
            "8                [recommendation, discussion]\n",
            "9                                  [announce]\n",
            "10                                 [announce]\n",
            "11                        [discussion, quote]\n",
            "12                  [recommendation, reading]\n",
            "13                      [reading, discussion]\n",
            "14                                  [reading]\n",
            "15                   [review, recommendation]\n",
            "16          [review, recommendation, reading]\n",
            "17                  [reading, recommendation]\n",
            "18                                 [announce]\n",
            "19                                 [announce]\n",
            "20                     [announce, discussion]\n",
            "21                [recommendation, listening]\n",
            "22                    [discussion, listening]\n",
            "23                  [reading, recommendation]\n",
            "24     [discussion, recommendation, watching]\n",
            "25               [recommendation, discussion]\n",
            "26                               [discussion]\n",
            "27                                 [announce]\n",
            "28                                 [announce]\n",
            "29    [recommendation, discussion, listening]\n",
            "30                [recommendation, listening]\n",
            "31                                  [reading]\n",
            "32                                      [job]\n",
            "33                      [discussion, reading]\n",
            "34                 [announce, recommendation]\n",
            "35           [recommendation, reading, event]\n",
            "36                                      [job]\n",
            "37                                 [announce]\n",
            "38              [announce, discussion, quote]\n",
            "39                                      [job]\n",
            "40                                      [job]\n",
            "41                                 [announce]\n",
            "42                                 [announce]\n",
            "Name: True Label, dtype: object\n"
          ]
        }
      ],
      "source": [
        "print(df['True Label'])"
      ]
    },
    {
      "cell_type": "code",
      "execution_count": 75,
      "metadata": {},
      "outputs": [],
      "source": [
        "from sklearn.preprocessing import MultiLabelBinarizer\n",
        "\n",
        "# Assume df['True label'] and df['Predicted label'] are your true and predicted labels\n",
        "mlb = MultiLabelBinarizer()\n",
        "\n",
        "# Binarize the labels\n",
        "y_true = mlb.fit_transform(df['True Label'])\n",
        "\n",
        "#refine prediction word list to contain only allowed labels defined by all true labels\n",
        "df['Predicted Label'] = df['Predicted Label'].apply(lambda x: [label for label in x if label in mlb.classes_])\n",
        "y_pred = mlb.transform(df['Predicted Label'])"
      ]
    },
    {
      "cell_type": "code",
      "execution_count": 76,
      "metadata": {},
      "outputs": [
        {
          "name": "stdout",
          "output_type": "stream",
          "text": [
            "['announce' 'discussion' 'event' 'job' 'listening' 'question' 'quote'\n",
            " 'reading' 'recommendation' 'review' 'watching']\n",
            "[[1 0 0 0 0 0 0 0 0 0 0]\n",
            " [1 0 0 0 0 0 0 0 0 0 0]\n",
            " [1 0 0 0 0 0 0 0 0 0 0]\n",
            " [0 1 0 0 0 0 0 0 1 0 0]\n",
            " [0 0 0 0 0 0 1 0 0 0 0]\n",
            " [1 0 0 0 0 0 1 0 0 0 0]\n",
            " [0 0 0 1 0 0 0 0 0 0 0]\n",
            " [0 1 0 0 0 1 0 0 0 0 0]\n",
            " [0 1 0 0 0 0 0 0 1 0 0]\n",
            " [1 0 0 0 0 0 0 0 0 0 0]]\n",
            "[[1 1 0 0 0 0 0 0 0 0 0]\n",
            " [0 0 0 0 0 0 0 0 0 0 0]\n",
            " [0 0 0 0 0 0 0 0 0 0 0]\n",
            " [0 0 0 0 0 0 0 0 1 0 0]\n",
            " [0 0 0 0 0 0 0 0 0 0 0]\n",
            " [0 0 0 0 0 0 0 0 0 0 0]\n",
            " [0 0 0 1 0 0 0 0 0 0 0]\n",
            " [0 1 0 0 0 1 0 0 1 0 0]\n",
            " [0 1 0 0 0 0 0 0 1 0 0]\n",
            " [1 0 0 0 0 0 0 0 0 0 0]]\n"
          ]
        }
      ],
      "source": [
        "print(mlb.classes_)\n",
        "print(y_true[0:10])\n",
        "print(y_pred[0:10])"
      ]
    },
    {
      "cell_type": "code",
      "execution_count": 98,
      "metadata": {},
      "outputs": [
        {
          "name": "stdout",
          "output_type": "stream",
          "text": [
            "Precision:  0.6093576965669989\n",
            "Recall:  0.6782945736434108\n",
            "F1 score:  0.61343669250646\n",
            "Support:  None\n",
            "accuracy:  0.32558139534883723\n"
          ]
        },
        {
          "name": "stderr",
          "output_type": "stream",
          "text": [
            "/Library/Frameworks/Python.framework/Versions/3.11/lib/python3.11/site-packages/sklearn/metrics/_classification.py:1471: UndefinedMetricWarning: Precision and F-score are ill-defined and being set to 0.0 in samples with no predicted labels. Use `zero_division` parameter to control this behavior.\n",
            "  _warn_prf(average, modifier, msg_start, len(result))\n"
          ]
        }
      ],
      "source": [
        "#evaluate\n",
        "from sklearn.metrics import precision_recall_fscore_support, accuracy_score\n",
        "\n",
        "# Calculate precision, recall, f1_score, support\n",
        "precision, recall, f1_score, support = precision_recall_fscore_support(y_true, y_pred, average='samples')\n",
        "\n",
        "accuracy = accuracy_score(y_pred=y_pred,y_true=y_true)\n",
        "\n",
        "print('Precision: ', precision)\n",
        "print('Recall: ', recall)\n",
        "print('F1 score: ', f1_score)\n",
        "print('Support: ', support)\n",
        "print('accuracy: ',accuracy)"
      ]
    },
    {
      "cell_type": "code",
      "execution_count": 91,
      "metadata": {},
      "outputs": [
        {
          "data": {
            "text/html": [
              "wandb version 0.16.2 is available!  To upgrade, please run:\n",
              " $ pip install wandb --upgrade"
            ],
            "text/plain": [
              "<IPython.core.display.HTML object>"
            ]
          },
          "metadata": {},
          "output_type": "display_data"
        },
        {
          "data": {
            "text/html": [
              "Tracking run with wandb version 0.16.0"
            ],
            "text/plain": [
              "<IPython.core.display.HTML object>"
            ]
          },
          "metadata": {},
          "output_type": "display_data"
        },
        {
          "data": {
            "text/html": [
              "Run data is saved locally in <code>/Users/shaharorielkagan/Documents/Python/desci-sense/notebooks/wandb/run-20240116_203633-t6yoj5hj</code>"
            ],
            "text/plain": [
              "<IPython.core.display.HTML object>"
            ]
          },
          "metadata": {},
          "output_type": "display_data"
        },
        {
          "data": {
            "text/html": [
              "Syncing run <strong><a href='https://wandb.ai/common-sense-makers/testing/runs/t6yoj5hj' target=\"_blank\">helpful-universe-55</a></strong> to <a href='https://wandb.ai/common-sense-makers/testing' target=\"_blank\">Weights & Biases</a> (<a href='https://wandb.me/run' target=\"_blank\">docs</a>)<br/>"
            ],
            "text/plain": [
              "<IPython.core.display.HTML object>"
            ]
          },
          "metadata": {},
          "output_type": "display_data"
        },
        {
          "data": {
            "text/html": [
              " View project at <a href='https://wandb.ai/common-sense-makers/testing' target=\"_blank\">https://wandb.ai/common-sense-makers/testing</a>"
            ],
            "text/plain": [
              "<IPython.core.display.HTML object>"
            ]
          },
          "metadata": {},
          "output_type": "display_data"
        },
        {
          "data": {
            "text/html": [
              " View run at <a href='https://wandb.ai/common-sense-makers/testing/runs/t6yoj5hj' target=\"_blank\">https://wandb.ai/common-sense-makers/testing/runs/t6yoj5hj</a>"
            ],
            "text/plain": [
              "<IPython.core.display.HTML object>"
            ]
          },
          "metadata": {},
          "output_type": "display_data"
        },
        {
          "name": "stderr",
          "output_type": "stream",
          "text": [
            "\u001b[34m\u001b[1mwandb\u001b[0m:   1 of 1 files downloaded.  \n"
          ]
        },
        {
          "name": "stdout",
          "output_type": "stream",
          "text": [
            "Got data frame with first raw:                                                   Text  \\\n",
            "0   Huge congrats to the team on this release. Hop...   \n",
            "1   Huge congrats to the team on this release. Hop...   \n",
            "2   \"Building a Data Pipeworks for Democratic AI: ...   \n",
            "3   I'll endorse this and double down: there's no ...   \n",
            "4   \"Ultimately, privacy law’s primary goal should...   \n",
            "5   The “singularity” to worry about, say ⁦@glenwe...   \n",
            "6   Join my lab as a postdoc in the Cognitive Scie...   \n",
            "7   Since writing this, I've found others studying...   \n",
            "8   Nice perspective paper on fixing activities be...   \n",
            "9   Some of my dissertation work was recently publ...   \n",
            "10  A new study published by PNAS adds more detail...   \n",
            "11  An explanation for why GPT-4 is degrading:\\n\\n...   \n",
            "12  This looks very interesting:\\n\"Secularism as M...   \n",
            "13  Test sets have 100s or even 1000s of examples\\...   \n",
            "14  From the abstract I can tell this is going to ...   \n",
            "15  Man, this paper is good: https://philpapers.or...   \n",
            "16  Good and balanced article: https://stackoverfl...   \n",
            "17  Good and balanced article: https://stackoverfl...   \n",
            "18  New paper: \"Grounding neuroscience in behavior...   \n",
            "19  Beyond Chinchilla-Optimal: Accounting for Infe...   \n",
            "20  New Preprint - Taining Zhang and @adamjgoldste...   \n",
            "21  An amazing discussion with Paul Cisek and @jma...   \n",
            "22  An amazing discussion with Paul Cisek and @jma...   \n",
            "23  My final book read of 2023 will also be my fir...   \n",
            "24  Cool talk by Nicholas Humphrey https://www.you...   \n",
            "25  I've argued for message passing being all we n...   \n",
            "26  Results from 192 effect sizes and over 2.5 mil...   \n",
            "27  We’ve all heard of place cells: neurons that f...   \n",
            "28  Last preprint by Chomsky and colleagues: \"Synt...   \n",
            "29  1/\\n\\nI have listened to many fascinating inte...   \n",
            "30  @TimChristiaens5 @mattpasquinelli I recently d...   \n",
            "31  First reading of the winterbreak, The Eye of t...   \n",
            "32  Are you an undergrad interested in NLP researc...   \n",
            "33  Persistent surveillance sold as a cure for lon...   \n",
            "34  Recommended: \"This paper proposes to establish...   \n",
            "35  Probably the best book I read about the 'digit...   \n",
            "36  Searching for an internship on #AI4Education u...   \n",
            "37  We just dropped a new preprint!\\n\\n\"Beyond net...   \n",
            "38  AI appears more rational than people:\\n\\nChatG...   \n",
            "39  We're hiring a chair of our excellent departme...   \n",
            "40  Friendly reminder: @UCSanDiego CSE is looking ...   \n",
            "41  People don't take a one-size-fits-all approach...   \n",
            "42  People don't take a one-size-fits-all approach...   \n",
            "\n",
            "                                 True Label  \\\n",
            "0                                [announce]   \n",
            "1                                [announce]   \n",
            "2                                [announce]   \n",
            "3              [recommendation, discussion]   \n",
            "4                                   [quote]   \n",
            "5                         [quote, announce]   \n",
            "6                                     [job]   \n",
            "7                    [question, discussion]   \n",
            "8              [recommendation, discussion]   \n",
            "9                                [announce]   \n",
            "10                               [announce]   \n",
            "11                      [discussion, quote]   \n",
            "12                [recommendation, reading]   \n",
            "13                    [reading, discussion]   \n",
            "14                                [reading]   \n",
            "15                 [review, recommendation]   \n",
            "16        [review, recommendation, reading]   \n",
            "17                [reading, recommendation]   \n",
            "18                               [announce]   \n",
            "19                               [announce]   \n",
            "20                   [announce, discussion]   \n",
            "21              [recommendation, listening]   \n",
            "22                  [discussion, listening]   \n",
            "23                [reading, recommendation]   \n",
            "24   [discussion, recommendation, watching]   \n",
            "25             [recommendation, discussion]   \n",
            "26                             [discussion]   \n",
            "27                               [announce]   \n",
            "28                               [announce]   \n",
            "29  [recommendation, discussion, listening]   \n",
            "30              [recommendation, listening]   \n",
            "31                                [reading]   \n",
            "32                                    [job]   \n",
            "33                    [discussion, reading]   \n",
            "34               [announce, recommendation]   \n",
            "35         [recommendation, reading, event]   \n",
            "36                                    [job]   \n",
            "37                               [announce]   \n",
            "38            [announce, discussion, quote]   \n",
            "39                                    [job]   \n",
            "40                                    [job]   \n",
            "41                               [announce]   \n",
            "42                               [announce]   \n",
            "\n",
            "                                      Predicted Label  \n",
            "0        [announce, discussion, announce, discussion]  \n",
            "1                                                  []  \n",
            "2                                                  []  \n",
            "3                                    [recommendation]  \n",
            "4                                                  []  \n",
            "5                                                  []  \n",
            "6                                               [job]  \n",
            "7              [discussion, recommendation, question]  \n",
            "8                        [discussion, recommendation]  \n",
            "9                                          [announce]  \n",
            "10                                         [announce]  \n",
            "11                                       [discussion]  \n",
            "12                         [recommendation, announce]  \n",
            "13              [discussion, reading, recommendation]  \n",
            "14                          [reading, recommendation]  \n",
            "15                           [review, recommendation]  \n",
            "16                             [announce, discussion]  \n",
            "17                                       [discussion]  \n",
            "18                                         [announce]  \n",
            "19                             [announce, discussion]  \n",
            "20                             [announce, discussion]  \n",
            "21                                       [discussion]  \n",
            "22                                       [discussion]  \n",
            "23                   [recommendation, reading, event]  \n",
            "24             [recommendation, discussion, announce]  \n",
            "25                         [announce, recommendation]  \n",
            "26                                       [discussion]  \n",
            "27                                         [announce]  \n",
            "28                                         [announce]  \n",
            "29                [event, discussion, recommendation]  \n",
            "30  [watching, recommendation, discussion, discuss...  \n",
            "31                                          [reading]  \n",
            "32                  [job, event, discussion, reading]  \n",
            "33                                       [discussion]  \n",
            "34  [announce, discussion, review, event, reading,...  \n",
            "35                   [recommendation, reading, event]  \n",
            "36                                              [job]  \n",
            "37                                                 []  \n",
            "38                         [announce, recommendation]  \n",
            "39                                              [job]  \n",
            "40                              [job, recommendation]  \n",
            "41                             [discussion, announce]  \n",
            "42                                            [quote]  \n"
          ]
        },
        {
          "name": "stderr",
          "output_type": "stream",
          "text": [
            "wandb: WARNING Source type is set to 'repo' but some required information is missing from the environment. A job will not be created from this run. See https://docs.wandb.ai/guides/launch/create-job\n"
          ]
        },
        {
          "data": {
            "application/vnd.jupyter.widget-view+json": {
              "model_id": "834843f072b640edb552441507f7c4c8",
              "version_major": 2,
              "version_minor": 0
            },
            "text/plain": [
              "VBox(children=(Label(value='0.001 MB of 0.001 MB uploaded\\r'), FloatProgress(value=1.0, max=1.0)))"
            ]
          },
          "metadata": {},
          "output_type": "display_data"
        },
        {
          "data": {
            "text/html": [
              "<style>\n",
              "    table.wandb td:nth-child(1) { padding: 0 10px; text-align: left ; width: auto;} td:nth-child(2) {text-align: left ; width: 100%}\n",
              "    .wandb-row { display: flex; flex-direction: row; flex-wrap: wrap; justify-content: flex-start; width: 100% }\n",
              "    .wandb-col { display: flex; flex-direction: column; flex-basis: 100%; flex: 1; padding: 10px; }\n",
              "    </style>\n",
              "<div class=\"wandb-row\"><div class=\"wandb-col\"><h3>Run summary:</h3><br/><table class=\"wandb\"><tr><td>f1_score</td><td>0.61344</td></tr><tr><td>precision</td><td>0.60936</td></tr><tr><td>recall</td><td>0.67829</td></tr></table><br/></div></div>"
            ],
            "text/plain": [
              "<IPython.core.display.HTML object>"
            ]
          },
          "metadata": {},
          "output_type": "display_data"
        },
        {
          "data": {
            "text/html": [
              " View run <strong style=\"color:#cdcd00\">helpful-universe-55</strong> at: <a href='https://wandb.ai/common-sense-makers/testing/runs/t6yoj5hj' target=\"_blank\">https://wandb.ai/common-sense-makers/testing/runs/t6yoj5hj</a><br/>Synced 5 W&B file(s), 0 media file(s), 0 artifact file(s) and 0 other file(s)"
            ],
            "text/plain": [
              "<IPython.core.display.HTML object>"
            ]
          },
          "metadata": {},
          "output_type": "display_data"
        },
        {
          "data": {
            "text/html": [
              "Find logs at: <code>./wandb/run-20240116_203633-t6yoj5hj/logs</code>"
            ],
            "text/plain": [
              "<IPython.core.display.HTML object>"
            ]
          },
          "metadata": {},
          "output_type": "display_data"
        }
      ],
      "source": [
        "#Emulating a full run: get a dataset from an artifact create, an evaluation artifact.\n",
        "import wandb\n",
        "import pandas as pd\n",
        "import sys\n",
        "from pathlib import Path\n",
        "\n",
        "# Assuming you have a DataFrame named df with your data\n",
        "#notebook_path = Path(os.getcwd())\n",
        "#sys.path.append(str(notebook_path.parents[1]))\n",
        "\n",
        "\n",
        "run = wandb.init(project=\"testing\",job_type=\"evaluation\")\n",
        "\n",
        "dataset_artifact_id = \"common-sense-makers/testing/labeled_data_v0:latest\"\n",
        "\n",
        "dataset_artifact = run.use_artifact(dataset_artifact_id)\n",
        "\n",
        "#download path to table\n",
        "a_path = dataset_artifact.download()\n",
        "table_path = Path(f\"{a_path}/labeled_data_table.table.json\")\n",
        "raw_data = json.load(table_path.open())\n",
        "\n",
        "#put it in a dataframe\n",
        "x = raw_data[\"columns\"].index('Text')\n",
        "y = raw_data[\"columns\"].index('True Label')\n",
        "z = raw_data[\"columns\"].index('Predicted Label')\n",
        "\n",
        "try:\n",
        "  rows = [{'Text': raw_data[\"data\"][i][x], 'True Label': raw_data[\"data\"][i][y], 'Predicted Label': raw_data['data'][i][z]} for i in range(len(raw_data[\"data\"]))]\n",
        "except Exception as e:\n",
        "  print(f\"Exception occurred: {e}\")\n",
        "\n",
        "df = pd.DataFrame(rows)\n",
        "\n",
        "#print(\"Got data frame with first raw: \", df)\n",
        "\n",
        "#Create the evaluation artifact\n",
        "artifact = wandb.Artifact(\"prediction_evaluation\", type=\"evaluation\")\n",
        "\n",
        "# Create a wandb.Table from the Pandas DataFrame\n",
        "table = wandb.Table(dataframe=df)\n",
        "\n",
        "# Add the wandb.Table to the artifact\n",
        "artifact.add(table, \"prediction_evaluation\")\n",
        "\n",
        "#add the scores as metadata\n",
        "artifact.metadata.update({'Precision': precision, 'Recall':recall, 'F1 score': f1_score})\n",
        "\n",
        "# model_info is your model metadata\n",
        "run.config.update({\"model_info\": 'model_info'}) \n",
        "\n",
        "#log scores as summary of the run\n",
        "#note that the scores are actually calculated in the cells above.\n",
        "run.summary[\"precision\"] = precision\n",
        "run.summary[\"recall\"] = recall\n",
        "run.summary[\"f1_score\"] = f1_score\n",
        "\n",
        "\n",
        "# Log the artifact\n",
        "wandb.log_artifact(artifact, aliases=[\"latest\"])\n",
        "\n",
        "wandb.run.finish()"
      ]
    },
    {
      "cell_type": "code",
      "execution_count": 97,
      "metadata": {},
      "outputs": [
        {
          "name": "stdout",
          "output_type": "stream",
          "text": [
            "0      [da]\n",
            "1    [None]\n",
            "Name: 1, dtype: object\n"
          ]
        },
        {
          "name": "stderr",
          "output_type": "stream",
          "text": [
            "/var/folders/j3/1_zy_b4s2517g8j_rjjdhd4h0000gn/T/ipykernel_38222/4224999233.py:2: DeprecationWarning: The truth value of an empty array is ambiguous. Returning False, but in future this will result in an error. Use `array.size > 0` to check that an array is not empty.\n",
            "  df1['1'] = df1['1'].apply(lambda x: ['None'] if pd.isnull(x) or x==[] else x)\n"
          ]
        }
      ],
      "source": [
        "def func(df):\n",
        "    df1['1'] = df1['1'].apply(lambda x: ['None'] if pd.isnull(x) or x==[] else x) \n",
        "\n",
        "\n",
        "df1 = pd.DataFrame([{\"1\":[\"da\"]},{\"1\":[]}])\n",
        "\n",
        "func(df1)   \n",
        "\n",
        "print(df1[\"1\"])"
      ]
    },
    {
      "cell_type": "code",
      "execution_count": null,
      "metadata": {},
      "outputs": [],
      "source": [
        "from sklearn.metrics import accuracy_score\n",
        "accuracy = accuracy_score()"
      ]
    },
    {
      "attachments": {},
      "cell_type": "markdown",
      "metadata": {
        "id": "FXiOR6H6VbVm"
      },
      "source": [
        "## Get CSV from all prediction Artifacts\n",
        "Create CSV out of all prediction artifacts. Faster than the old script. only returns latest, not all versions"
      ]
    },
    {
      "cell_type": "code",
      "execution_count": 2,
      "metadata": {
        "id": "oQes51ojVyXt"
      },
      "outputs": [],
      "source": [
        "#Select which project\n",
        "project = \"st-app-multi-v1\""
      ]
    },
    {
      "cell_type": "code",
      "execution_count": 35,
      "metadata": {
        "colab": {
          "base_uri": "https://localhost:8080/",
          "height": 1000,
          "referenced_widgets": [
            "0abc97e46afd4f5298747bc22c290d45",
            "8fc01288aa6945e4b5fde44bc8a6ec75",
            "ae6c382aa3e841ef8509fef4c2fae1d9",
            "bb1c48720c8844c1bf07051300eaf3ed",
            "87644cfdd138487ab5c49f0124fe2a8d",
            "febbf6c2a82e47d693f74487df4f6543",
            "4a6509c5f1bd475a935bb21bee2b282a",
            "0e9522832af64427adc8e01f9d8d2274"
          ]
        },
        "id": "kUJYUyWaO0uG",
        "outputId": "a73c2ae5-d74a-4fd5-b7bf-2e5a051c4946"
      },
      "outputs": [
        {
          "data": {
            "text/html": [
              "Finishing last run (ID:ln4t20xk) before initializing another..."
            ],
            "text/plain": [
              "<IPython.core.display.HTML object>"
            ]
          },
          "metadata": {},
          "output_type": "display_data"
        },
        {
          "data": {
            "application/vnd.jupyter.widget-view+json": {
              "model_id": "0abc97e46afd4f5298747bc22c290d45",
              "version_major": 2,
              "version_minor": 0
            },
            "text/plain": [
              "VBox(children=(Label(value='0.001 MB of 0.001 MB uploaded\\r'), FloatProgress(value=1.0, max=1.0)))"
            ]
          },
          "metadata": {},
          "output_type": "display_data"
        },
        {
          "data": {
            "text/html": [
              " View run <strong style=\"color:#cdcd00\">youthful-galaxy-16</strong> at: <a href='https://wandb.ai/common-sense-makers/uncategorized/runs/ln4t20xk' target=\"_blank\">https://wandb.ai/common-sense-makers/uncategorized/runs/ln4t20xk</a><br/>Synced 5 W&B file(s), 0 media file(s), 0 artifact file(s) and 0 other file(s)"
            ],
            "text/plain": [
              "<IPython.core.display.HTML object>"
            ]
          },
          "metadata": {},
          "output_type": "display_data"
        },
        {
          "data": {
            "text/html": [
              "Find logs at: <code>./wandb/run-20240111_014956-ln4t20xk/logs</code>"
            ],
            "text/plain": [
              "<IPython.core.display.HTML object>"
            ]
          },
          "metadata": {},
          "output_type": "display_data"
        },
        {
          "data": {
            "text/html": [
              "Successfully finished last run (ID:ln4t20xk). Initializing new run:<br/>"
            ],
            "text/plain": [
              "<IPython.core.display.HTML object>"
            ]
          },
          "metadata": {},
          "output_type": "display_data"
        },
        {
          "data": {
            "text/html": [
              "Tracking run with wandb version 0.16.2"
            ],
            "text/plain": [
              "<IPython.core.display.HTML object>"
            ]
          },
          "metadata": {},
          "output_type": "display_data"
        },
        {
          "data": {
            "text/html": [
              "Run data is saved locally in <code>/content/wandb/run-20240111_022158-2n7brza6</code>"
            ],
            "text/plain": [
              "<IPython.core.display.HTML object>"
            ]
          },
          "metadata": {},
          "output_type": "display_data"
        },
        {
          "data": {
            "text/html": [
              "Syncing run <strong><a href='https://wandb.ai/common-sense-makers/uncategorized/runs/2n7brza6' target=\"_blank\">clear-darkness-17</a></strong> to <a href='https://wandb.ai/common-sense-makers/uncategorized' target=\"_blank\">Weights & Biases</a> (<a href='https://wandb.me/run' target=\"_blank\">docs</a>)<br/>"
            ],
            "text/plain": [
              "<IPython.core.display.HTML object>"
            ]
          },
          "metadata": {},
          "output_type": "display_data"
        },
        {
          "data": {
            "text/html": [
              " View project at <a href='https://wandb.ai/common-sense-makers/uncategorized' target=\"_blank\">https://wandb.ai/common-sense-makers/uncategorized</a>"
            ],
            "text/plain": [
              "<IPython.core.display.HTML object>"
            ]
          },
          "metadata": {},
          "output_type": "display_data"
        },
        {
          "data": {
            "text/html": [
              " View run at <a href='https://wandb.ai/common-sense-makers/uncategorized/runs/2n7brza6' target=\"_blank\">https://wandb.ai/common-sense-makers/uncategorized/runs/2n7brza6</a>"
            ],
            "text/plain": [
              "<IPython.core.display.HTML object>"
            ]
          },
          "metadata": {},
          "output_type": "display_data"
        },
        {
          "name": "stderr",
          "output_type": "stream",
          "text": [
            "\u001b[34m\u001b[1mwandb\u001b[0m:   1 of 1 files downloaded.  \n",
            "\u001b[34m\u001b[1mwandb\u001b[0m:   1 of 1 files downloaded.  \n",
            "\u001b[34m\u001b[1mwandb\u001b[0m:   1 of 1 files downloaded.  \n",
            "\u001b[34m\u001b[1mwandb\u001b[0m:   1 of 1 files downloaded.  \n",
            "\u001b[34m\u001b[1mwandb\u001b[0m:   1 of 1 files downloaded.  \n",
            "\u001b[34m\u001b[1mwandb\u001b[0m:   1 of 1 files downloaded.  \n",
            "\u001b[34m\u001b[1mwandb\u001b[0m:   1 of 1 files downloaded.  \n",
            "\u001b[34m\u001b[1mwandb\u001b[0m:   1 of 1 files downloaded.  \n",
            "\u001b[34m\u001b[1mwandb\u001b[0m:   1 of 1 files downloaded.  \n",
            "\u001b[34m\u001b[1mwandb\u001b[0m:   1 of 1 files downloaded.  \n",
            "\u001b[34m\u001b[1mwandb\u001b[0m:   1 of 1 files downloaded.  \n",
            "\u001b[34m\u001b[1mwandb\u001b[0m:   1 of 1 files downloaded.  \n",
            "\u001b[34m\u001b[1mwandb\u001b[0m:   1 of 1 files downloaded.  \n",
            "\u001b[34m\u001b[1mwandb\u001b[0m:   1 of 1 files downloaded.  \n",
            "\u001b[34m\u001b[1mwandb\u001b[0m:   1 of 1 files downloaded.  \n",
            "\u001b[34m\u001b[1mwandb\u001b[0m:   1 of 1 files downloaded.  \n",
            "\u001b[34m\u001b[1mwandb\u001b[0m:   1 of 1 files downloaded.  \n",
            "\u001b[34m\u001b[1mwandb\u001b[0m:   1 of 1 files downloaded.  \n",
            "\u001b[34m\u001b[1mwandb\u001b[0m:   1 of 1 files downloaded.  \n",
            "\u001b[34m\u001b[1mwandb\u001b[0m:   1 of 1 files downloaded.  \n",
            "\u001b[34m\u001b[1mwandb\u001b[0m:   1 of 1 files downloaded.  \n",
            "\u001b[34m\u001b[1mwandb\u001b[0m:   1 of 1 files downloaded.  \n",
            "\u001b[34m\u001b[1mwandb\u001b[0m:   1 of 1 files downloaded.  \n",
            "\u001b[34m\u001b[1mwandb\u001b[0m:   1 of 1 files downloaded.  \n",
            "\u001b[34m\u001b[1mwandb\u001b[0m:   1 of 1 files downloaded.  \n",
            "\u001b[34m\u001b[1mwandb\u001b[0m:   1 of 1 files downloaded.  \n",
            "\u001b[34m\u001b[1mwandb\u001b[0m:   1 of 1 files downloaded.  \n",
            "\u001b[34m\u001b[1mwandb\u001b[0m:   1 of 1 files downloaded.  \n",
            "\u001b[34m\u001b[1mwandb\u001b[0m:   1 of 1 files downloaded.  \n",
            "\u001b[34m\u001b[1mwandb\u001b[0m:   1 of 1 files downloaded.  \n",
            "\u001b[34m\u001b[1mwandb\u001b[0m:   1 of 1 files downloaded.  \n",
            "\u001b[34m\u001b[1mwandb\u001b[0m:   1 of 1 files downloaded.  \n",
            "\u001b[34m\u001b[1mwandb\u001b[0m:   1 of 1 files downloaded.  \n",
            "\u001b[34m\u001b[1mwandb\u001b[0m:   1 of 1 files downloaded.  \n",
            "\u001b[34m\u001b[1mwandb\u001b[0m:   1 of 1 files downloaded.  \n",
            "\u001b[34m\u001b[1mwandb\u001b[0m:   1 of 1 files downloaded.  \n",
            "\u001b[34m\u001b[1mwandb\u001b[0m:   1 of 1 files downloaded.  \n",
            "\u001b[34m\u001b[1mwandb\u001b[0m:   1 of 1 files downloaded.  \n",
            "\u001b[34m\u001b[1mwandb\u001b[0m:   1 of 1 files downloaded.  \n",
            "\u001b[34m\u001b[1mwandb\u001b[0m:   1 of 1 files downloaded.  \n",
            "\u001b[34m\u001b[1mwandb\u001b[0m:   1 of 1 files downloaded.  \n",
            "\u001b[34m\u001b[1mwandb\u001b[0m:   1 of 1 files downloaded.  \n",
            "\u001b[34m\u001b[1mwandb\u001b[0m:   1 of 1 files downloaded.  \n"
          ]
        },
        {
          "name": "stdout",
          "output_type": "stream",
          "text": [
            "                                                 User  \\\n",
            "0                                                 rtk   \n",
            "1                                        Nick Vincent   \n",
            "2                                        Nick Vincent   \n",
            "3                    p(Alex Kiefer | everything else)   \n",
            "4                                       Abeba Birhane   \n",
            "5                                         Nils Gilman   \n",
            "6                                      Tania Lombrozo   \n",
            "7                                  Elizabeth McDaniel   \n",
            "8                                   Kording —-& Lab 🦖   \n",
            "9                                    Zr. Nabu Kudurru   \n",
            "10                                 J. Nathan Matias 🦣   \n",
            "11  rtk - https://twitter.com/ChombaBupe/status/17...   \n",
            "12                                         Tim Howles   \n",
            "13                               ♻️ Leshem Choshen ♻️   \n",
            "14  rtk - https://mastodon.social/@jonny@neuromatc...   \n",
            "15                                   Mx. Aria Stewart   \n",
            "16   Filip Piekniewski🌻 🐘:@filippie509@techhub.social   \n",
            "17   Filip Piekniewski🌻 🐘:@filippie509@techhub.social   \n",
            "18                                      Grace Lindsay   \n",
            "19                                   Aran Komatsuzaki   \n",
            "20                                      Michael Levin   \n",
            "21                                     Kevin Mitchell   \n",
            "22                                     Kevin Mitchell   \n",
            "23  https://twitter.com/ToddLaVogue/status/1741144...   \n",
            "24                                      Michael Levin   \n",
            "25                                   Petar Veličković   \n",
            "26                                 Jay Van Bavel, PhD   \n",
            "27                                   Mohamady El-Gaby   \n",
            "28                                  A.Benítez-Burraco   \n",
            "29                                       Benjamin Han   \n",
            "30                                                 nk   \n",
            "31  https://twitter.com/TimChristiaens5/status/173...   \n",
            "32                                      Jacob Andreas   \n",
            "33                                 Meredith Whittaker   \n",
            "34                                         petersuber   \n",
            "35  https://twitter.com/mbauwens/status/1738764509...   \n",
            "36                                Pierre-Yves Oudeyer   \n",
            "37                Yogi Jaeger 💙 @yoginho@spore.social   \n",
            "38                                 Jay Van Bavel, PhD   \n",
            "39                                       Beth Morling   \n",
            "40                                           UCSD CSE   \n",
            "41                                                rtk   \n",
            "42                                        CoCoSci MIT   \n",
            "\n",
            "                                                  URL  \\\n",
            "0                                                       \n",
            "1   https://twitter.com/nickmvincent/status/171695...   \n",
            "2   https://twitter.com/nickmvincent/status/172421...   \n",
            "3   https://twitter.com/exilefaker/status/17444679...   \n",
            "4   https://twitter.com/Abebab/status/174379520169...   \n",
            "5   https://twitter.com/nils_gilman/status/1743812...   \n",
            "6   https://twitter.com/TaniaLombrozo/status/17227...   \n",
            "7   https://twitter.com/lizilla93/status/174297882...   \n",
            "8   https://twitter.com/KordingLab/status/17428951...   \n",
            "9   https://twitter.com/BrettButtliere/status/1725...   \n",
            "10  https://social.coop/@natematias/11158816356041...   \n",
            "11                                                      \n",
            "12  https://twitter.com/AimeTim/status/17421089854...   \n",
            "13  https://twitter.com/LChoshen/status/1742173831...   \n",
            "14                                                      \n",
            "15  https://kolektiva.social/@aredridel/1115878952...   \n",
            "16  https://twitter.com/filippie509/status/1735357...   \n",
            "17  https://twitter.com/filippie509/status/1735357...   \n",
            "18  https://mastodon.online/@Neurograce/1115292057...   \n",
            "19  https://twitter.com/arankomatsuzaki/status/174...   \n",
            "20  https://twitter.com/drmichaellevin/status/1736...   \n",
            "21  https://twitter.com/WiringTheBrain/status/1736...   \n",
            "22  https://twitter.com/WiringTheBrain/status/1736...   \n",
            "23                                                      \n",
            "24  https://twitter.com/drmichaellevin/status/1741...   \n",
            "25  https://twitter.com/PetarV_93/status/166075104...   \n",
            "26  https://twitter.com/jayvanbavel/status/1740388...   \n",
            "27  https://twitter.com/GabyMohamady/status/174005...   \n",
            "28  https://twitter.com/abenitezburraco/status/174...   \n",
            "29  https://sigmoid.social/@BenjaminHan/1116452492...   \n",
            "30  https://twitter.com/subcountability/status/173...   \n",
            "31                                                      \n",
            "32  https://twitter.com/jacobandreas/status/173937...   \n",
            "33  https://mastodon.world/@Mer__edith/11163736328...   \n",
            "34  https://fediscience.org/@petersuber/1116360367...   \n",
            "35                                                      \n",
            "36  https://twitter.com/pyoudeyer/status/173820310...   \n",
            "37  https://twitter.com/yoginho/status/17382053644...   \n",
            "38  https://twitter.com/jayvanbavel/status/1737906...   \n",
            "39  https://twitter.com/bmorling/status/1738016895...   \n",
            "40  https://twitter.com/ucsd_cse/status/1737935386...   \n",
            "41                                                      \n",
            "42  https://twitter.com/MITCoCoSci/status/17379481...   \n",
            "\n",
            "                                                 Text  \\\n",
            "0   Huge congrats to the team on this release. Hop...   \n",
            "1   Huge congrats to the team on this release. Hop...   \n",
            "2   \"Building a Data Pipeworks for Democratic AI: ...   \n",
            "3   I'll endorse this and double down: there's no ...   \n",
            "4   \"Ultimately, privacy law’s primary goal should...   \n",
            "5   The “singularity” to worry about, say ⁦@glenwe...   \n",
            "6   Join my lab as a postdoc in the Cognitive Scie...   \n",
            "7   Since writing this, I've found others studying...   \n",
            "8   Nice perspective paper on fixing activities be...   \n",
            "9   Some of my dissertation work was recently publ...   \n",
            "10  A new study published by PNAS adds more detail...   \n",
            "11  An explanation for why GPT-4 is degrading:\\n\\n...   \n",
            "12  This looks very interesting:\\n\"Secularism as M...   \n",
            "13  Test sets have 100s or even 1000s of examples\\...   \n",
            "14  From the abstract I can tell this is going to ...   \n",
            "15  Man, this paper is good: https://philpapers.or...   \n",
            "16  Good and balanced article: https://stackoverfl...   \n",
            "17  Good and balanced article: https://stackoverfl...   \n",
            "18  New paper: \"Grounding neuroscience in behavior...   \n",
            "19  Beyond Chinchilla-Optimal: Accounting for Infe...   \n",
            "20  New Preprint - Taining Zhang and @adamjgoldste...   \n",
            "21  An amazing discussion with Paul Cisek and @jma...   \n",
            "22  An amazing discussion with Paul Cisek and @jma...   \n",
            "23  My final book read of 2023 will also be my fir...   \n",
            "24  Cool talk by Nicholas Humphrey https://www.you...   \n",
            "25  I've argued for message passing being all we n...   \n",
            "26  Results from 192 effect sizes and over 2.5 mil...   \n",
            "27  We’ve all heard of place cells: neurons that f...   \n",
            "28  Last preprint by Chomsky and colleagues: \"Synt...   \n",
            "29  1/\\n\\nI have listened to many fascinating inte...   \n",
            "30  @TimChristiaens5 @mattpasquinelli I recently d...   \n",
            "31  First reading of the winterbreak, The Eye of t...   \n",
            "32  Are you an undergrad interested in NLP researc...   \n",
            "33  Persistent surveillance sold as a cure for lon...   \n",
            "34  Recommended: \"This paper proposes to establish...   \n",
            "35  Probably the best book I read about the 'digit...   \n",
            "36  Searching for an internship on #AI4Education u...   \n",
            "37  We just dropped a new preprint!\\n\\n\"Beyond net...   \n",
            "38  AI appears more rational than people:\\n\\nChatG...   \n",
            "39  We're hiring a chair of our excellent departme...   \n",
            "40  Friendly reminder: @UCSanDiego CSE is looking ...   \n",
            "41  People don't take a one-size-fits-all approach...   \n",
            "42  People don't take a one-size-fits-all approach...   \n",
            "\n",
            "                                      Reasoning Steps  \\\n",
            "0   [Reasoning Steps]\\n\\n1. The post is a reply to...   \n",
            "1   [Reasoning Steps]\\n\\n1. The post does not cont...   \n",
            "2   [Reasoning Steps]\\n\\n1. The post seems to be r...   \n",
            "3   [Reasoning Steps]\\n\\n1. The user is expressing...   \n",
            "4   [Reasoning Steps]\\n\\n1. Identify the main topi...   \n",
            "5   [Reasoning Steps]\\n\\n1. The post mentions the ...   \n",
            "6   [Reasoning Steps]\\n\\n1. The post is describing...   \n",
            "7   [Reasoning Steps]\\n\\n1. The post is discussing...   \n",
            "8   [Reasoning Steps]\\n\\n1. The post is discussing...   \n",
            "9   [Reasoning Steps]\\n\\n1. The user mentions that...   \n",
            "10  [Reasoning Steps]\\n\\n1. The post is about a ne...   \n",
            "11  [Reasoning Steps]\\n\\n1. The given post discuss...   \n",
            "12  [Reasoning Steps]\\n\\n1. The post is sharing a ...   \n",
            "13  [Reasoning Steps]\\n\\n1. The post is discussing...   \n",
            "14  [Reasoning Steps]\\n\\n1. The user expresses exc...   \n",
            "15  [Reasoning Steps]\\n\\n1. The post is expressing...   \n",
            "16  [Reasoning Steps]\\n\\n1. The post contains an a...   \n",
            "17  [Reasoning Steps]\\n\\n1. The post is sharing a ...   \n",
            "18  [Reasoning Steps]\\n\\n1. The post is announcing...   \n",
            "19  [Reasoning Steps]\\n\\n1. The post announces a n...   \n",
            "20  [Reasoning Steps]\\n\\n1. The post is about a ne...   \n",
            "21  [Reasoning Steps]\\n\\n1. The post contains a di...   \n",
            "22  [Reasoning Steps]\\n\\n1. The post contains a di...   \n",
            "23  [Reasoning Steps]\\n\\n1. The post is about a bo...   \n",
            "24  [Reasoning Steps]\\n\\n1. The post contains a li...   \n",
            "25  [Reasoning Steps]\\n\\n1. The post contains an a...   \n",
            "26  [Reasoning Steps]\\n\\n1. The post discusses the...   \n",
            "27  [Reasoning Steps]\\n\\n[System error: failed to ...   \n",
            "28  [Reasoning Steps]\\n\\n[System error: failed to ...   \n",
            "29  [Reasoning Steps]\\n\\n1. The post is about a po...   \n",
            "30  [Reasoning Steps]\\n\\n1. The post mentions a po...   \n",
            "31  [Reasoning Steps]\\n\\n1. The post is about a bo...   \n",
            "32  [Reasoning Steps]\\n\\n1. The post is about an o...   \n",
            "33  [Reasoning Steps]\\n\\n1. The post discusses the...   \n",
            "34  [Reasoning Steps]\\n\\n1. The post contains info...   \n",
            "35  [Reasoning Steps]\\n\\n1. The post describes a b...   \n",
            "36  [Reasoning Steps]\\n\\n1. The post discusses job...   \n",
            "37  [Reasoning Steps]\\n\\n**\\n1. First, we need to ...   \n",
            "38  [Reasoning Steps]\\n\\n* Firstly, we need to det...   \n",
            "39  [Reasoning Steps]\\n\\n1. Firstly, we need to ch...   \n",
            "40  [Reasoning Steps]\\n\\n1. Check if there is an a...   \n",
            "41  [Reasoning Steps]\\n\\n[System error: failed to ...   \n",
            "42  [Reasoning Steps]\\n\\n1. Based on the first sen...   \n",
            "\n",
            "                                      Predicted Label  \\\n",
            "0   <announce>, <discussion>\\n\\nExplanation:\\nThe ...   \n",
            "1                                                None   \n",
            "2                                             <other>   \n",
            "3                                    <recommendation>   \n",
            "4                                             <other>   \n",
            "5   <other>\\n\\nExplanation:\\nThe post is presentin...   \n",
            "6                                               <job>   \n",
            "7          <discussion>, <recommendation>, <question>   \n",
            "8                      <discussion>, <recommendation>   \n",
            "9                                          <announce>   \n",
            "10                                         <announce>   \n",
            "11                                       <discussion>   \n",
            "12                         <recommendation, announce>   \n",
            "13          <discussion>, <reading>, <recommendation>   \n",
            "14                        <reading>, <recommendation>   \n",
            "15                         <review>, <recommendation>   \n",
            "16                               announce, discussion   \n",
            "17                                       <discussion>   \n",
            "18                                         <announce>   \n",
            "19  * announce: The post announces a new research ...   \n",
            "20                           <announce>, <discussion>   \n",
            "21                                       <discussion>   \n",
            "22                            <discussion>, <podcast>   \n",
            "23      1. <recommendation>\\n2. <reading>\\n3. <event>   \n",
            "24  1. recommendation\\n2. discussion\\n3. announce\\...   \n",
            "25                       <announce>, <recommendation>   \n",
            "26                                       <discussion>   \n",
            "27                                <announce>, <other>   \n",
            "28                                         <announce>   \n",
            "29   <event>, <discussion>, <recommendation>, <other>   \n",
            "30  <watching>, <recommendation>, <discussion>, <d...   \n",
            "31                            1. <reading>\\n2. <book>   \n",
            "32            <job>, <event>, <discussion>, <reading>   \n",
            "33                                       <discussion>   \n",
            "34  1. <announce>\\n2. <discussion>\\n3. <review>\\n4...   \n",
            "35               <recommendation>, <reading>, <event>   \n",
            "36                                              <job>   \n",
            "37             **\\n[Announcement, Networks, Critique]   \n",
            "38                       <announce>, <recommendation>   \n",
            "39                                   {<job>, <other>}   \n",
            "40                   <job>, <recommendation>, <other>   \n",
            "41                             <discussion><announce>   \n",
            "42                                            <quote>   \n",
            "\n",
            "                                 True Label  \\\n",
            "0                                [announce]   \n",
            "1                                [announce]   \n",
            "2                                [announce]   \n",
            "3              [recommendation, discussion]   \n",
            "4                                   [quote]   \n",
            "5                         [quote, announce]   \n",
            "6                                     [job]   \n",
            "7                    [question, discussion]   \n",
            "8              [recommendation, discussion]   \n",
            "9                                [announce]   \n",
            "10                               [announce]   \n",
            "11                      [discussion, quote]   \n",
            "12                [recommendation, reading]   \n",
            "13                    [reading, discussion]   \n",
            "14                                [reading]   \n",
            "15                 [review, recommendation]   \n",
            "16        [review, recommendation, reading]   \n",
            "17                [reading, recommendation]   \n",
            "18                               [announce]   \n",
            "19                               [announce]   \n",
            "20                   [announce, discussion]   \n",
            "21              [recommendation, listening]   \n",
            "22                  [discussion, listening]   \n",
            "23                [reading, recommendation]   \n",
            "24   [discussion, recommendation, watching]   \n",
            "25             [recommendation, discussion]   \n",
            "26                             [discussion]   \n",
            "27                               [announce]   \n",
            "28                               [announce]   \n",
            "29  [recommendation, discussion, listening]   \n",
            "30              [recommendation, listening]   \n",
            "31                                [reading]   \n",
            "32                                    [job]   \n",
            "33                    [discussion, reading]   \n",
            "34               [announce, recommendation]   \n",
            "35         [recommendation, reading, event]   \n",
            "36                                    [job]   \n",
            "37                               [announce]   \n",
            "38            [announce, discussion, quote]   \n",
            "39                                    [job]   \n",
            "40                                    [job]   \n",
            "41                               [announce]   \n",
            "42                               [announce]   \n",
            "\n",
            "                               Name of Label Provider Post Source  \n",
            "0                                                 rtk  user input  \n",
            "1                                                 rtk     twitter  \n",
            "2                                                 rtk     twitter  \n",
            "3                                                 rtk     twitter  \n",
            "4                                                         twitter  \n",
            "5                                                 rtk     twitter  \n",
            "6                                                         twitter  \n",
            "7                                                 rtk     twitter  \n",
            "8                                                 rtk     twitter  \n",
            "9                                                 rtk     twitter  \n",
            "10                                                rtk    mastodon  \n",
            "11  rtk - https://twitter.com/ChombaBupe/status/17...  user input  \n",
            "12                                                rtk     twitter  \n",
            "13                                                rtk     twitter  \n",
            "14  rtk - https://mastodon.social/@jonny@neuromatc...  user input  \n",
            "15                                                rtk    mastodon  \n",
            "16                                                rtk     twitter  \n",
            "17                                                rtk     twitter  \n",
            "18                                                rtk    mastodon  \n",
            "19                                                rtk     twitter  \n",
            "20                                                rtk     twitter  \n",
            "21  rtk - this is the correct label, not previous one     twitter  \n",
            "22                                                rtk     twitter  \n",
            "23  https://twitter.com/ToddLaVogue/status/1741144...  user input  \n",
            "24                                                rtk     twitter  \n",
            "25                                                rtk     twitter  \n",
            "26                                                rtk     twitter  \n",
            "27                                                rtk     twitter  \n",
            "28                                                rtk     twitter  \n",
            "29                                                rtk    mastodon  \n",
            "30                                                rtk     twitter  \n",
            "31  https://twitter.com/TimChristiaens5/status/173...  user input  \n",
            "32                                                rtk     twitter  \n",
            "33                                                rtk    mastodon  \n",
            "34                                                rtk    mastodon  \n",
            "35  https://twitter.com/mbauwens/status/1738764509...  user input  \n",
            "36                                                rtk     twitter  \n",
            "37                                                rtk     twitter  \n",
            "38                                                rtk     twitter  \n",
            "39                                                        twitter  \n",
            "40                                                rtk     twitter  \n",
            "41                                                rtk  user input  \n",
            "42                                                rtk     twitter  \n",
            "CSV file saved at output_data.csv\n"
          ]
        }
      ],
      "source": [
        "import wandb\n",
        "import pandas as pd\n",
        "import json\n",
        "from pathlib import Path\n",
        "\n",
        "# Initialize wandb\n",
        "wandb.init()\n",
        "api = wandb.Api()\n",
        "# Specify the project and artifact type\n",
        "project_name = project\n",
        "TYPE = 'prediction'\n",
        "\n",
        "# Retrieve all artifacts of the specified type\n",
        "\n",
        "artifacts = []\n",
        "\n",
        "collections = [\n",
        "      coll for coll in api.artifact_type(type_name=TYPE, project=project_name).collections()\n",
        "  ]\n",
        "\n",
        "\n",
        "for coll in collections:\n",
        "    for artifact in coll.artifacts():\n",
        "        artifacts += [artifact]\n",
        "\n",
        "\n",
        "# Process artifacts and create a CSV file\n",
        "csv_data = []\n",
        "rows = []\n",
        "\n",
        "for artifact in artifacts:\n",
        "    #Limit to m entires\n",
        "    \n",
        "    # Access the files in the artifact\n",
        "    a_path = artifact.download()\n",
        "\n",
        "    table_path = Path(f\"{a_path}/predictions.table.json\")\n",
        "    raw_data = json.load(table_path.open())\n",
        "\n",
        "    row_d = dict(zip(raw_data['columns'],\n",
        "                     raw_data[\"data\"][0]))\n",
        "    #print(row_d)\n",
        "    rows.append(row_d)\n",
        "\n",
        "df = pd.DataFrame(rows)\n",
        "\n",
        "print(df)\n",
        "\n",
        "csv_data.append(df)\n",
        "\n",
        "# Concatenate all dataframes into one\n",
        "final_dataframe = pd.concat(csv_data, ignore_index=True)\n",
        "\n",
        "# Save the concatenated dataframe to a CSV file\n",
        "output_csv_path = 'output_data.csv'\n",
        "final_dataframe.to_csv(output_csv_path, index=False)\n",
        "\n",
        "print(f\"CSV file saved at {output_csv_path}\")"
      ]
    },
    {
      "cell_type": "code",
      "execution_count": 3,
      "metadata": {},
      "outputs": [
        {
          "name": "stdout",
          "output_type": "stream",
          "text": [
            "Size set to 100\n"
          ]
        }
      ],
      "source": [
        "#Same as the above, only saving directly to an artifact and not CSV\n",
        "#set constraint on number of rows\n",
        "m = input(\"Enter dataset size\")\n",
        "print(\"Size set to\",m)\n",
        "#Select which project\n",
        "project = \"st-app-multi-v1\""
      ]
    },
    {
      "cell_type": "code",
      "execution_count": 3,
      "metadata": {},
      "outputs": [
        {
          "data": {
            "text/html": [
              "wandb version 0.16.2 is available!  To upgrade, please run:\n",
              " $ pip install wandb --upgrade"
            ],
            "text/plain": [
              "<IPython.core.display.HTML object>"
            ]
          },
          "metadata": {},
          "output_type": "display_data"
        },
        {
          "data": {
            "text/html": [
              "Tracking run with wandb version 0.16.0"
            ],
            "text/plain": [
              "<IPython.core.display.HTML object>"
            ]
          },
          "metadata": {},
          "output_type": "display_data"
        },
        {
          "data": {
            "text/html": [
              "Run data is saved locally in <code>/Users/shaharorielkagan/Documents/Python/desci-sense/notebooks/wandb/run-20240131_151703-1plk1i15</code>"
            ],
            "text/plain": [
              "<IPython.core.display.HTML object>"
            ]
          },
          "metadata": {},
          "output_type": "display_data"
        },
        {
          "data": {
            "text/html": [
              "Syncing run <strong><a href='https://wandb.ai/common-sense-makers/evaluation_benchmark/runs/1plk1i15' target=\"_blank\">splendid-silence-56</a></strong> to <a href='https://wandb.ai/common-sense-makers/evaluation_benchmark' target=\"_blank\">Weights & Biases</a> (<a href='https://wandb.me/run' target=\"_blank\">docs</a>)<br/>"
            ],
            "text/plain": [
              "<IPython.core.display.HTML object>"
            ]
          },
          "metadata": {},
          "output_type": "display_data"
        },
        {
          "data": {
            "text/html": [
              " View project at <a href='https://wandb.ai/common-sense-makers/evaluation_benchmark' target=\"_blank\">https://wandb.ai/common-sense-makers/evaluation_benchmark</a>"
            ],
            "text/plain": [
              "<IPython.core.display.HTML object>"
            ]
          },
          "metadata": {},
          "output_type": "display_data"
        },
        {
          "data": {
            "text/html": [
              " View run at <a href='https://wandb.ai/common-sense-makers/evaluation_benchmark/runs/1plk1i15' target=\"_blank\">https://wandb.ai/common-sense-makers/evaluation_benchmark/runs/1plk1i15</a>"
            ],
            "text/plain": [
              "<IPython.core.display.HTML object>"
            ]
          },
          "metadata": {},
          "output_type": "display_data"
        },
        {
          "name": "stderr",
          "output_type": "stream",
          "text": [
            "\u001b[34m\u001b[1mwandb\u001b[0m:   3 of 3 files downloaded.  \n",
            "\u001b[34m\u001b[1mwandb\u001b[0m:   3 of 3 files downloaded.  \n",
            "\u001b[34m\u001b[1mwandb\u001b[0m:   3 of 3 files downloaded.  \n"
          ]
        },
        {
          "data": {
            "application/vnd.jupyter.widget-view+json": {
              "model_id": "41a123f6473a4114a185e7216d3848ef",
              "version_major": 2,
              "version_minor": 0
            },
            "text/plain": [
              "VBox(children=(Label(value='0.020 MB of 0.020 MB uploaded\\r'), FloatProgress(value=1.0, max=1.0)))"
            ]
          },
          "metadata": {},
          "output_type": "display_data"
        },
        {
          "name": "stderr",
          "output_type": "stream",
          "text": [
            "wandb: WARNING Source type is set to 'repo' but some required information is missing from the environment. A job will not be created from this run. See https://docs.wandb.ai/guides/launch/create-job\n"
          ]
        },
        {
          "data": {
            "text/html": [
              " View run <strong style=\"color:#cdcd00\">splendid-silence-56</strong> at: <a href='https://wandb.ai/common-sense-makers/evaluation_benchmark/runs/1plk1i15' target=\"_blank\">https://wandb.ai/common-sense-makers/evaluation_benchmark/runs/1plk1i15</a><br/>Synced 5 W&B file(s), 0 media file(s), 1 artifact file(s) and 0 other file(s)"
            ],
            "text/plain": [
              "<IPython.core.display.HTML object>"
            ]
          },
          "metadata": {},
          "output_type": "display_data"
        },
        {
          "data": {
            "text/html": [
              "Find logs at: <code>./wandb/run-20240131_151703-1plk1i15/logs</code>"
            ],
            "text/plain": [
              "<IPython.core.display.HTML object>"
            ]
          },
          "metadata": {},
          "output_type": "display_data"
        }
      ],
      "source": [
        "import wandb\n",
        "import pandas as pd\n",
        "import json\n",
        "from pathlib import Path\n",
        "\n",
        "# Initialize wandb\n",
        "run = wandb.init(project=\"evaluation_benchmark\",job_type=\"evaluation\")\n",
        "api = wandb.Api()\n",
        "# Specify the project and artifact type\n",
        "project_name = project\n",
        "TYPE = 'prediction'\n",
        "\n",
        "# Retrieve all artifacts of the specified type\n",
        "\n",
        "artifacts = []\n",
        "\n",
        "collections = [\n",
        "      coll for coll in api.artifact_type(type_name=TYPE, project=project_name).collections()\n",
        "  ]\n",
        "\n",
        "\n",
        "for coll in collections:\n",
        "    for artifact in coll.versions():\n",
        "        if len(artifacts)>m:\n",
        "            break\n",
        "        artifacts += [artifact]\n",
        "\n",
        "\n",
        "# Process artifacts and create a CSV file\n",
        "csv_data = []\n",
        "rows = []\n",
        "\n",
        "for artifact in artifacts:\n",
        "    #Limit to m entires\n",
        "    \n",
        "    # Access the files in the artifact\n",
        "    a_path = artifact.download()\n",
        "\n",
        "    table_path = Path(f\"{a_path}/predictions.table.json\")\n",
        "    raw_data = json.load(table_path.open())\n",
        "\n",
        "    row_d = dict(zip(raw_data['columns'],\n",
        "                     raw_data[\"data\"][0]))\n",
        "    #print(row_d)\n",
        "    #Check if predicted or true label are empty lists, if so remove dont add the row \n",
        "    ind = bool(row_d['Predicted Label'] and row_d['True Label'])\n",
        "    if ind:\n",
        "        rows.append(row_d)\n",
        "\n",
        "df = pd.DataFrame(rows)\n",
        "\n",
        "#Create the evaluation artifact\n",
        "artifact = wandb.Artifact(\"dataset_for_eval\", type=\"dataset\")\n",
        "\n",
        "# Create a wandb.Table from the Pandas DataFrame\n",
        "table = wandb.Table(dataframe=df)\n",
        "\n",
        "# Add the wandb.Table to the artifact\n",
        "artifact.add(table, \"labeled_data\")\n",
        "\n",
        "# Log the artifact\n",
        "wandb.log_artifact(artifact, aliases=[\"latest\"])\n",
        "\n",
        "wandb.run.finish()\n"
      ]
    },
    {
      "cell_type": "code",
      "execution_count": 6,
      "metadata": {},
      "outputs": [
        {
          "data": {
            "text/html": [
              "wandb version 0.16.2 is available!  To upgrade, please run:\n",
              " $ pip install wandb --upgrade"
            ],
            "text/plain": [
              "<IPython.core.display.HTML object>"
            ]
          },
          "metadata": {},
          "output_type": "display_data"
        },
        {
          "data": {
            "text/html": [
              "Tracking run with wandb version 0.16.0"
            ],
            "text/plain": [
              "<IPython.core.display.HTML object>"
            ]
          },
          "metadata": {},
          "output_type": "display_data"
        },
        {
          "data": {
            "text/html": [
              "Run data is saved locally in <code>/Users/shaharorielkagan/Documents/Python/desci-sense/notebooks/wandb/run-20240119_175223-socvgh7b</code>"
            ],
            "text/plain": [
              "<IPython.core.display.HTML object>"
            ]
          },
          "metadata": {},
          "output_type": "display_data"
        },
        {
          "data": {
            "text/html": [
              "Syncing run <strong><a href='https://wandb.ai/common-sense-makers/testing/runs/socvgh7b' target=\"_blank\">whole-paper-72</a></strong> to <a href='https://wandb.ai/common-sense-makers/testing' target=\"_blank\">Weights & Biases</a> (<a href='https://wandb.me/run' target=\"_blank\">docs</a>)<br/>"
            ],
            "text/plain": [
              "<IPython.core.display.HTML object>"
            ]
          },
          "metadata": {},
          "output_type": "display_data"
        },
        {
          "data": {
            "text/html": [
              " View project at <a href='https://wandb.ai/common-sense-makers/testing' target=\"_blank\">https://wandb.ai/common-sense-makers/testing</a>"
            ],
            "text/plain": [
              "<IPython.core.display.HTML object>"
            ]
          },
          "metadata": {},
          "output_type": "display_data"
        },
        {
          "data": {
            "text/html": [
              " View run at <a href='https://wandb.ai/common-sense-makers/testing/runs/socvgh7b' target=\"_blank\">https://wandb.ai/common-sense-makers/testing/runs/socvgh7b</a>"
            ],
            "text/plain": [
              "<IPython.core.display.HTML object>"
            ]
          },
          "metadata": {},
          "output_type": "display_data"
        },
        {
          "name": "stderr",
          "output_type": "stream",
          "text": [
            "\u001b[34m\u001b[1mwandb\u001b[0m: \u001b[33mWARNING\u001b[0m wandb.plots.* functions are deprecated and will be removed in a future release. Please use wandb.plot.* instead.\n",
            "\u001b[34m\u001b[1mwandb\u001b[0m: Visualizing heatmap.\n"
          ]
        }
      ],
      "source": [
        "# Import necessary libraries\n",
        "import wandb\n",
        "import numpy as np\n",
        "from sklearn.metrics import confusion_matrix\n",
        "\n",
        "# Initialize wandb\n",
        "wandb.init(project=\"testing\")\n",
        "\n",
        "# Assume you have some predictions and true labels\n",
        "y_true = np.array([2, 0, 2, 2, 0, 1])\n",
        "y_pred = np.array([0, 0, 2, 2, 0, 2])\n",
        "\n",
        "# Calculate the confusion matrix using sklearn\n",
        "cm = confusion_matrix(y_true, y_pred)\n",
        "\n",
        "# Log the confusion matrix to wandb\n",
        "wandb.log({\"confusion_matrix\": wandb.plots.HeatMap(np.unique(y_true), np.unique(y_pred), cm, show_text=True)})\n"
      ]
    },
    {
      "attachments": {},
      "cell_type": "markdown",
      "metadata": {},
      "source": [
        "## Testing Evaluation\n",
        "Starting with function definitions\n"
      ]
    },
    {
      "cell_type": "code",
      "execution_count": 19,
      "metadata": {},
      "outputs": [],
      "source": [
        "from datetime import datetime\n",
        "import wandb\n",
        "from pathlib import Path\n",
        "import json\n",
        "import pandas as pd\n",
        "import numpy as np\n",
        "import sys\n",
        "import os\n",
        "from tqdm import tqdm\n",
        "import docopt\n",
        "import re\n",
        "from sklearn.preprocessing import MultiLabelBinarizer\n",
        "from sklearn.metrics import precision_recall_fscore_support, accuracy_score, confusion_matrix\n",
        "\n",
        "\n",
        "\n",
        "\n",
        "\n",
        "\n",
        "#get a path to a wandb table and populate it in a pd data frame\n",
        "def get_dataset(table_path):\n",
        "    raw_data = json.load(table_path.open())\n",
        "\n",
        "    #put it in a dataframe\n",
        "    try:\n",
        "        rows = [dict(zip(raw_data['columns'],raw_data['data'][i])) for i in range(len(raw_data[\"data\"]))]\n",
        "    except Exception as e:\n",
        "        print(f\"Exception occurred: {e}\")\n",
        "\n",
        "\n",
        "\n",
        "    df = pd.DataFrame(rows)\n",
        "    return df\n",
        "\n",
        "    \n",
        "#values are returned as string, we want them as lists\n",
        "def normalize_df(df):\n",
        "    # Assuming each label is a single word and there are no spaces in labels\n",
        "    # This will remove all non-word characters and split the string into words\n",
        "    if type(df[\"True Label\"][0])==str:\n",
        "        df['True Label'] = df['True Label'].apply(lambda x: re.sub(r'\\W+', ' ', x).split())\n",
        "\n",
        "    # Replace empty list with an empty 'None' in 'Predicted label' TODO \n",
        "    #df['Predicted Label'] = df['Predicted Label'].apply(lambda x: 'None' if pd.isnull(x) else x)    \n",
        "    #df['Predicted Label'] = df['Predicted Label'].apply(lambda x: re.sub(r'\\W+', ' ', x).split())    \n",
        "\n",
        "def binarize(y_pred,y_true):\n",
        "    #binarize for using skl functions\n",
        "    # Assume df['True label'] and df['Predicted label'] are your true and predicted labels\n",
        "    mlb = MultiLabelBinarizer()\n",
        "\n",
        "    # Binarize the labels\n",
        "    \n",
        "\n",
        "    mlb.fit(y_pred+y_true)\n",
        "    \n",
        "    #binarize true and predicted labels vectors\n",
        "    y_true = mlb.transform(y_true)\n",
        "\n",
        "    y_pred = mlb.transform(y_pred)\n",
        "   \n",
        "    return y_pred,y_true , mlb.classes_\n",
        "#assumes that the values on 'True Label' and 'Predicted Label' are lists \n",
        "def calculate_scores(y_pred,y_true):\n",
        "    \n",
        "    #calculate scores\n",
        "    # Calculate precision, recall, f1_score, support\n",
        "    precision, recall, f1_score, support = precision_recall_fscore_support(y_true, y_pred, average=None)\n",
        "\n",
        "    #calculate accuracy\n",
        "    accuracy = accuracy_score(y_pred=y_pred,y_true=y_true)\n",
        "\n",
        "    #calculate label confusion chart\n",
        "\n",
        "\n",
        "    return precision,recall,f1_score,support,accuracy\n",
        "#def create_evaluation_artifact(df,)\n",
        "\n",
        "#Create a custom confusion matrix: on the diagonal you see the true positives\n",
        "# off the diagonal you see the false positives incase the row label was predicted as false negative\n",
        "\n",
        "def create_custom_confusion_matrix(y_true, y_pred, labels):\n",
        "    # Initialize an empty matrix\n",
        "    matrix = np.zeros((len(labels), len(labels)))\n",
        "\n",
        "    # Calculate confusion matrix for each label\n",
        "    for i, label_i in enumerate(labels):\n",
        "        for j, label_j in enumerate(labels):\n",
        "            if i == j:\n",
        "                # Diagonal: True Positives for label i\n",
        "                tp = confusion_matrix(y_true[:, i], y_pred[:, i]).ravel()[3]\n",
        "                matrix[i, i] = tp\n",
        "            else:\n",
        "                # Off-diagonal: i was true (fn for i) but j was predicted (fp for j)\n",
        "                fn_i = y_true[:, i] & ~y_pred[:, i]\n",
        "                fp_j = ~y_true[:, j] & y_pred[:, j]\n",
        "                matrix[i, j] = np.sum(fn_i & fp_j)\n",
        "    \n",
        "    return pd.DataFrame(matrix, index=labels, columns=labels)\n",
        "\n",
        "#Log chart of metrics per label\n",
        "def score_chart_by_label(labels,y_pred,y_true):\n",
        "    precision,recall,f1_score,support,accuracy = calculate_scores(y_pred=y_pred,y_true=y_true)\n",
        "    df = pd.DataFrame({'Labels':labels,\n",
        "                       'Precision':precision,\n",
        "                       'Recall':recall,\n",
        "                       'F1 score':f1_score,\n",
        "                       'True label Count':sum(y_true)\n",
        "                       })\n",
        "    avg_row = pd.DataFrame({'Labels': 'Average',\n",
        "                            'Precision': pd.Series(precision).mean(),\n",
        "                            'Recall': pd.Series(recall).mean(),\n",
        "                            'F1 score': pd.Series(f1_score).mean(),\n",
        "                            'True label Count': sum(sum(y_true))},\n",
        "                            index=[0]\n",
        "                            )\n",
        "    df = df._append(avg_row, ignore_index=True)\n",
        "    return df, accuracy\n",
        "    "
      ]
    },
    {
      "attachments": {},
      "cell_type": "markdown",
      "metadata": {},
      "source": [
        "Now dataset pulling and binarizing "
      ]
    },
    {
      "cell_type": "code",
      "execution_count": 8,
      "metadata": {},
      "outputs": [
        {
          "data": {
            "text/html": [
              "Finishing last run (ID:wydtkg82) before initializing another..."
            ],
            "text/plain": [
              "<IPython.core.display.HTML object>"
            ]
          },
          "metadata": {},
          "output_type": "display_data"
        },
        {
          "name": "stderr",
          "output_type": "stream",
          "text": [
            "wandb: WARNING Source type is set to 'repo' but some required information is missing from the environment. A job will not be created from this run. See https://docs.wandb.ai/guides/launch/create-job\n"
          ]
        },
        {
          "data": {
            "application/vnd.jupyter.widget-view+json": {
              "model_id": "6b3959734daa41d79f11adb2597f3883",
              "version_major": 2,
              "version_minor": 0
            },
            "text/plain": [
              "VBox(children=(Label(value='0.001 MB of 0.001 MB uploaded\\r'), FloatProgress(value=1.0, max=1.0)))"
            ]
          },
          "metadata": {},
          "output_type": "display_data"
        },
        {
          "data": {
            "text/html": [
              " View run <strong style=\"color:#cdcd00\">deft-shadow-92</strong> at: <a href='https://wandb.ai/common-sense-makers/testing/runs/wydtkg82' target=\"_blank\">https://wandb.ai/common-sense-makers/testing/runs/wydtkg82</a><br/>Synced 5 W&B file(s), 0 media file(s), 0 artifact file(s) and 0 other file(s)"
            ],
            "text/plain": [
              "<IPython.core.display.HTML object>"
            ]
          },
          "metadata": {},
          "output_type": "display_data"
        },
        {
          "data": {
            "text/html": [
              "Find logs at: <code>./wandb/run-20240207_112053-wydtkg82/logs</code>"
            ],
            "text/plain": [
              "<IPython.core.display.HTML object>"
            ]
          },
          "metadata": {},
          "output_type": "display_data"
        },
        {
          "data": {
            "text/html": [
              "Successfully finished last run (ID:wydtkg82). Initializing new run:<br/>"
            ],
            "text/plain": [
              "<IPython.core.display.HTML object>"
            ]
          },
          "metadata": {},
          "output_type": "display_data"
        },
        {
          "data": {
            "application/vnd.jupyter.widget-view+json": {
              "model_id": "e06bdd6b810a42d4a7c0298984e3b9b5",
              "version_major": 2,
              "version_minor": 0
            },
            "text/plain": [
              "VBox(children=(Label(value='Waiting for wandb.init()...\\r'), FloatProgress(value=0.011167201844439962, max=1.0…"
            ]
          },
          "metadata": {},
          "output_type": "display_data"
        },
        {
          "data": {
            "text/html": [
              "wandb version 0.16.3 is available!  To upgrade, please run:\n",
              " $ pip install wandb --upgrade"
            ],
            "text/plain": [
              "<IPython.core.display.HTML object>"
            ]
          },
          "metadata": {},
          "output_type": "display_data"
        },
        {
          "data": {
            "text/html": [
              "Tracking run with wandb version 0.16.0"
            ],
            "text/plain": [
              "<IPython.core.display.HTML object>"
            ]
          },
          "metadata": {},
          "output_type": "display_data"
        },
        {
          "data": {
            "text/html": [
              "Run data is saved locally in <code>/Users/shaharorielkagan/Documents/Python/desci-sense/notebooks/wandb/run-20240207_113707-39hsnbce</code>"
            ],
            "text/plain": [
              "<IPython.core.display.HTML object>"
            ]
          },
          "metadata": {},
          "output_type": "display_data"
        },
        {
          "data": {
            "text/html": [
              "Syncing run <strong><a href='https://wandb.ai/common-sense-makers/testing/runs/39hsnbce' target=\"_blank\">swift-planet-93</a></strong> to <a href='https://wandb.ai/common-sense-makers/testing' target=\"_blank\">Weights & Biases</a> (<a href='https://wandb.me/run' target=\"_blank\">docs</a>)<br/>"
            ],
            "text/plain": [
              "<IPython.core.display.HTML object>"
            ]
          },
          "metadata": {},
          "output_type": "display_data"
        },
        {
          "data": {
            "text/html": [
              " View project at <a href='https://wandb.ai/common-sense-makers/testing' target=\"_blank\">https://wandb.ai/common-sense-makers/testing</a>"
            ],
            "text/plain": [
              "<IPython.core.display.HTML object>"
            ]
          },
          "metadata": {},
          "output_type": "display_data"
        },
        {
          "data": {
            "text/html": [
              " View run at <a href='https://wandb.ai/common-sense-makers/testing/runs/39hsnbce' target=\"_blank\">https://wandb.ai/common-sense-makers/testing/runs/39hsnbce</a>"
            ],
            "text/plain": [
              "<IPython.core.display.HTML object>"
            ]
          },
          "metadata": {},
          "output_type": "display_data"
        },
        {
          "name": "stderr",
          "output_type": "stream",
          "text": [
            "\u001b[34m\u001b[1mwandb\u001b[0m:   1 of 1 files downloaded.  \n"
          ]
        }
      ],
      "source": [
        "dataset_artifact_id = 'common-sense-makers/evaluation_benchmark/prediction_evaluation-20240202173457:v0'\n",
        "\n",
        "run = wandb.init(project=\"testing\",job_type=\"evaluation\")\n",
        "\n",
        "dataset_artifact = run.use_artifact(dataset_artifact_id)\n",
        "\n",
        "# initialize table path\n",
        "#add the option to call table_path =  arguments.get('--dataset')\n",
        "\n",
        "#download path to table\n",
        "a_path = dataset_artifact.download()\n",
        "\n",
        "table_path = Path(f\"{a_path}/prediction_evaluation.table.json\")\n",
        "\n",
        "df = get_dataset(table_path)\n",
        "\n",
        "\n",
        "\n",
        "normalize_df(df)\n",
        "\n",
        "\n",
        "#return binarized predictions and true labels, as well as labels names\n",
        "y_pred, y_true, labels = binarize(y_pred=df['Predicted Label'],y_true=df['True Label'])\n",
        "\n"
      ]
    },
    {
      "cell_type": "code",
      "execution_count": 9,
      "metadata": {},
      "outputs": [
        {
          "name": "stdout",
          "output_type": "stream",
          "text": [
            "y_true: [[0 1 0 ... 0 0 0]\n",
            " [1 0 1 ... 0 0 0]\n",
            " [0 1 0 ... 1 0 0]\n",
            " ...\n",
            " [1 0 0 ... 0 0 0]\n",
            " [1 1 0 ... 0 0 0]\n",
            " [0 0 0 ... 0 0 0]]\n",
            "Label count:  [32 35  8  5  5  1  1  4  9 12 33  6  2]\n"
          ]
        }
      ],
      "source": [
        "label_count = sum(y_true)\n",
        "print('y_true:',y_true)\n",
        "print('Label count: ',label_count)"
      ]
    },
    {
      "cell_type": "code",
      "execution_count": 20,
      "metadata": {},
      "outputs": [
        {
          "name": "stdout",
          "output_type": "stream",
          "text": [
            "                Labels  Precision    Recall  F1 score  True label Count\n",
            "0             announce   0.702703  0.812500  0.753623                32\n",
            "1           discussion   0.638889  0.657143  0.647887                35\n",
            "2                event   0.833333  0.625000  0.714286                 8\n",
            "3                  job   0.800000  0.800000  0.800000                 5\n",
            "4            listening   0.600000  0.600000  0.600000                 5\n",
            "5                other   0.000000  0.000000  0.000000                 1\n",
            "6   other:related-work   0.000000  0.000000  0.000000                 1\n",
            "7             question   0.333333  0.500000  0.400000                 4\n",
            "8                quote   0.500000  0.111111  0.181818                 9\n",
            "9              reading   0.444444  0.333333  0.380952                12\n",
            "10      recommendation   0.551724  0.484848  0.516129                33\n",
            "11              review   0.000000  0.000000  0.000000                 6\n",
            "12            watching   0.333333  0.500000  0.400000                 2\n",
            "13             Average   0.441366  0.417226  0.414977               153\n",
            "0.29591836734693877\n"
          ]
        },
        {
          "name": "stderr",
          "output_type": "stream",
          "text": [
            "/Library/Frameworks/Python.framework/Versions/3.11/lib/python3.11/site-packages/sklearn/metrics/_classification.py:1471: UndefinedMetricWarning: Precision and F-score are ill-defined and being set to 0.0 in labels with no predicted samples. Use `zero_division` parameter to control this behavior.\n",
            "  _warn_prf(average, modifier, msg_start, len(result))\n"
          ]
        }
      ],
      "source": [
        "\n",
        "score_chart, accuracy = score_chart_by_label(y_pred=y_pred,y_true=y_true,labels=labels)\n",
        "print(score_chart)\n",
        "print(accuracy)"
      ]
    }
  ],
  "metadata": {
    "colab": {
      "provenance": []
    },
    "kernelspec": {
      "display_name": "Python 3",
      "language": "python",
      "name": "python3"
    },
    "language_info": {
      "codemirror_mode": {
        "name": "ipython",
        "version": 3
      },
      "file_extension": ".py",
      "mimetype": "text/x-python",
      "name": "python",
      "nbconvert_exporter": "python",
      "pygments_lexer": "ipython3",
      "version": "3.11.2"
    },
    "vscode": {
      "interpreter": {
        "hash": "aee8b7b246df8f9039afb4144a1f6fd8d2ca17a180786b69acc140d282b71a49"
      }
    },
    "widgets": {
      "application/vnd.jupyter.widget-state+json": {
        "0abc97e46afd4f5298747bc22c290d45": {
          "model_module": "@jupyter-widgets/controls",
          "model_module_version": "1.5.0",
          "model_name": "VBoxModel",
          "state": {
            "_dom_classes": [],
            "_model_module": "@jupyter-widgets/controls",
            "_model_module_version": "1.5.0",
            "_model_name": "VBoxModel",
            "_view_count": null,
            "_view_module": "@jupyter-widgets/controls",
            "_view_module_version": "1.5.0",
            "_view_name": "VBoxView",
            "box_style": "",
            "children": [
              "IPY_MODEL_8fc01288aa6945e4b5fde44bc8a6ec75",
              "IPY_MODEL_ae6c382aa3e841ef8509fef4c2fae1d9"
            ],
            "layout": "IPY_MODEL_bb1c48720c8844c1bf07051300eaf3ed"
          }
        },
        "0c129099b9b443e6adb05514682ee04f": {
          "model_module": "@jupyter-widgets/base",
          "model_module_version": "1.2.0",
          "model_name": "LayoutModel",
          "state": {
            "_model_module": "@jupyter-widgets/base",
            "_model_module_version": "1.2.0",
            "_model_name": "LayoutModel",
            "_view_count": null,
            "_view_module": "@jupyter-widgets/base",
            "_view_module_version": "1.2.0",
            "_view_name": "LayoutView",
            "align_content": null,
            "align_items": null,
            "align_self": null,
            "border": null,
            "bottom": null,
            "display": null,
            "flex": null,
            "flex_flow": null,
            "grid_area": null,
            "grid_auto_columns": null,
            "grid_auto_flow": null,
            "grid_auto_rows": null,
            "grid_column": null,
            "grid_gap": null,
            "grid_row": null,
            "grid_template_areas": null,
            "grid_template_columns": null,
            "grid_template_rows": null,
            "height": null,
            "justify_content": null,
            "justify_items": null,
            "left": null,
            "margin": null,
            "max_height": null,
            "max_width": null,
            "min_height": null,
            "min_width": null,
            "object_fit": null,
            "object_position": null,
            "order": null,
            "overflow": null,
            "overflow_x": null,
            "overflow_y": null,
            "padding": null,
            "right": null,
            "top": null,
            "visibility": null,
            "width": null
          }
        },
        "0cdd4fd14b3b4afab3541b2694941d37": {
          "model_module": "@jupyter-widgets/base",
          "model_module_version": "1.2.0",
          "model_name": "LayoutModel",
          "state": {
            "_model_module": "@jupyter-widgets/base",
            "_model_module_version": "1.2.0",
            "_model_name": "LayoutModel",
            "_view_count": null,
            "_view_module": "@jupyter-widgets/base",
            "_view_module_version": "1.2.0",
            "_view_name": "LayoutView",
            "align_content": null,
            "align_items": null,
            "align_self": null,
            "border": null,
            "bottom": null,
            "display": null,
            "flex": null,
            "flex_flow": null,
            "grid_area": null,
            "grid_auto_columns": null,
            "grid_auto_flow": null,
            "grid_auto_rows": null,
            "grid_column": null,
            "grid_gap": null,
            "grid_row": null,
            "grid_template_areas": null,
            "grid_template_columns": null,
            "grid_template_rows": null,
            "height": null,
            "justify_content": null,
            "justify_items": null,
            "left": null,
            "margin": null,
            "max_height": null,
            "max_width": null,
            "min_height": null,
            "min_width": null,
            "object_fit": null,
            "object_position": null,
            "order": null,
            "overflow": null,
            "overflow_x": null,
            "overflow_y": null,
            "padding": null,
            "right": null,
            "top": null,
            "visibility": null,
            "width": null
          }
        },
        "0e9522832af64427adc8e01f9d8d2274": {
          "model_module": "@jupyter-widgets/controls",
          "model_module_version": "1.5.0",
          "model_name": "ProgressStyleModel",
          "state": {
            "_model_module": "@jupyter-widgets/controls",
            "_model_module_version": "1.5.0",
            "_model_name": "ProgressStyleModel",
            "_view_count": null,
            "_view_module": "@jupyter-widgets/base",
            "_view_module_version": "1.2.0",
            "_view_name": "StyleView",
            "bar_color": null,
            "description_width": ""
          }
        },
        "107f2b41ecfa46e08acb096d51d7a961": {
          "model_module": "@jupyter-widgets/controls",
          "model_module_version": "1.5.0",
          "model_name": "ProgressStyleModel",
          "state": {
            "_model_module": "@jupyter-widgets/controls",
            "_model_module_version": "1.5.0",
            "_model_name": "ProgressStyleModel",
            "_view_count": null,
            "_view_module": "@jupyter-widgets/base",
            "_view_module_version": "1.2.0",
            "_view_name": "StyleView",
            "bar_color": null,
            "description_width": ""
          }
        },
        "2ab8a01ea31f4f6590a8ee703db2456e": {
          "model_module": "@jupyter-widgets/controls",
          "model_module_version": "1.5.0",
          "model_name": "VBoxModel",
          "state": {
            "_dom_classes": [],
            "_model_module": "@jupyter-widgets/controls",
            "_model_module_version": "1.5.0",
            "_model_name": "VBoxModel",
            "_view_count": null,
            "_view_module": "@jupyter-widgets/controls",
            "_view_module_version": "1.5.0",
            "_view_name": "VBoxView",
            "box_style": "",
            "children": [
              "IPY_MODEL_510253d7e28447368159d9254deb1bd3",
              "IPY_MODEL_8621f47724cf41a78a4b9ba0966b6ea5"
            ],
            "layout": "IPY_MODEL_afee94fec2294dfa89ed87b46ed0c6dd"
          }
        },
        "301ce7b8cfcd45c2aefa7bc0a972382e": {
          "model_module": "@jupyter-widgets/controls",
          "model_module_version": "1.5.0",
          "model_name": "ProgressStyleModel",
          "state": {
            "_model_module": "@jupyter-widgets/controls",
            "_model_module_version": "1.5.0",
            "_model_name": "ProgressStyleModel",
            "_view_count": null,
            "_view_module": "@jupyter-widgets/base",
            "_view_module_version": "1.2.0",
            "_view_name": "StyleView",
            "bar_color": null,
            "description_width": ""
          }
        },
        "3eb4665ad4f946bd8d9ef7f1d7fbd9f5": {
          "model_module": "@jupyter-widgets/controls",
          "model_module_version": "1.5.0",
          "model_name": "FloatProgressModel",
          "state": {
            "_dom_classes": [],
            "_model_module": "@jupyter-widgets/controls",
            "_model_module_version": "1.5.0",
            "_model_name": "FloatProgressModel",
            "_view_count": null,
            "_view_module": "@jupyter-widgets/controls",
            "_view_module_version": "1.5.0",
            "_view_name": "ProgressView",
            "bar_style": "",
            "description": "",
            "description_tooltip": null,
            "layout": "IPY_MODEL_0c129099b9b443e6adb05514682ee04f",
            "max": 1,
            "min": 0,
            "orientation": "horizontal",
            "style": "IPY_MODEL_107f2b41ecfa46e08acb096d51d7a961",
            "value": 1
          }
        },
        "4a6509c5f1bd475a935bb21bee2b282a": {
          "model_module": "@jupyter-widgets/base",
          "model_module_version": "1.2.0",
          "model_name": "LayoutModel",
          "state": {
            "_model_module": "@jupyter-widgets/base",
            "_model_module_version": "1.2.0",
            "_model_name": "LayoutModel",
            "_view_count": null,
            "_view_module": "@jupyter-widgets/base",
            "_view_module_version": "1.2.0",
            "_view_name": "LayoutView",
            "align_content": null,
            "align_items": null,
            "align_self": null,
            "border": null,
            "bottom": null,
            "display": null,
            "flex": null,
            "flex_flow": null,
            "grid_area": null,
            "grid_auto_columns": null,
            "grid_auto_flow": null,
            "grid_auto_rows": null,
            "grid_column": null,
            "grid_gap": null,
            "grid_row": null,
            "grid_template_areas": null,
            "grid_template_columns": null,
            "grid_template_rows": null,
            "height": null,
            "justify_content": null,
            "justify_items": null,
            "left": null,
            "margin": null,
            "max_height": null,
            "max_width": null,
            "min_height": null,
            "min_width": null,
            "object_fit": null,
            "object_position": null,
            "order": null,
            "overflow": null,
            "overflow_x": null,
            "overflow_y": null,
            "padding": null,
            "right": null,
            "top": null,
            "visibility": null,
            "width": null
          }
        },
        "510253d7e28447368159d9254deb1bd3": {
          "model_module": "@jupyter-widgets/controls",
          "model_module_version": "1.5.0",
          "model_name": "LabelModel",
          "state": {
            "_dom_classes": [],
            "_model_module": "@jupyter-widgets/controls",
            "_model_module_version": "1.5.0",
            "_model_name": "LabelModel",
            "_view_count": null,
            "_view_module": "@jupyter-widgets/controls",
            "_view_module_version": "1.5.0",
            "_view_name": "LabelView",
            "description": "",
            "description_tooltip": null,
            "layout": "IPY_MODEL_d84a96a42e314cd5b2ffad455572e921",
            "placeholder": "​",
            "style": "IPY_MODEL_f00b6fb6107e405896d32e82dd4c5e0a",
            "value": "0.094 MB of 0.094 MB uploaded\r"
          }
        },
        "5a3dc362c0c9488985c6b7bd6d0290e9": {
          "model_module": "@jupyter-widgets/controls",
          "model_module_version": "1.5.0",
          "model_name": "LabelModel",
          "state": {
            "_dom_classes": [],
            "_model_module": "@jupyter-widgets/controls",
            "_model_module_version": "1.5.0",
            "_model_name": "LabelModel",
            "_view_count": null,
            "_view_module": "@jupyter-widgets/controls",
            "_view_module_version": "1.5.0",
            "_view_name": "LabelView",
            "description": "",
            "description_tooltip": null,
            "layout": "IPY_MODEL_0cdd4fd14b3b4afab3541b2694941d37",
            "placeholder": "​",
            "style": "IPY_MODEL_ec96b21141e84b1d8a8c68940c9e799e",
            "value": "0.043 MB of 0.043 MB uploaded\r"
          }
        },
        "8307e9813b8e4c738c59ec7612ecd2c2": {
          "model_module": "@jupyter-widgets/controls",
          "model_module_version": "1.5.0",
          "model_name": "VBoxModel",
          "state": {
            "_dom_classes": [],
            "_model_module": "@jupyter-widgets/controls",
            "_model_module_version": "1.5.0",
            "_model_name": "VBoxModel",
            "_view_count": null,
            "_view_module": "@jupyter-widgets/controls",
            "_view_module_version": "1.5.0",
            "_view_name": "VBoxView",
            "box_style": "",
            "children": [
              "IPY_MODEL_5a3dc362c0c9488985c6b7bd6d0290e9",
              "IPY_MODEL_3eb4665ad4f946bd8d9ef7f1d7fbd9f5"
            ],
            "layout": "IPY_MODEL_d5db689346534fa6bc936d9e6672d3c1"
          }
        },
        "8621f47724cf41a78a4b9ba0966b6ea5": {
          "model_module": "@jupyter-widgets/controls",
          "model_module_version": "1.5.0",
          "model_name": "FloatProgressModel",
          "state": {
            "_dom_classes": [],
            "_model_module": "@jupyter-widgets/controls",
            "_model_module_version": "1.5.0",
            "_model_name": "FloatProgressModel",
            "_view_count": null,
            "_view_module": "@jupyter-widgets/controls",
            "_view_module_version": "1.5.0",
            "_view_name": "ProgressView",
            "bar_style": "",
            "description": "",
            "description_tooltip": null,
            "layout": "IPY_MODEL_f5353b6e7f4e48e494abe84bf8ff1076",
            "max": 1,
            "min": 0,
            "orientation": "horizontal",
            "style": "IPY_MODEL_301ce7b8cfcd45c2aefa7bc0a972382e",
            "value": 1
          }
        },
        "87644cfdd138487ab5c49f0124fe2a8d": {
          "model_module": "@jupyter-widgets/base",
          "model_module_version": "1.2.0",
          "model_name": "LayoutModel",
          "state": {
            "_model_module": "@jupyter-widgets/base",
            "_model_module_version": "1.2.0",
            "_model_name": "LayoutModel",
            "_view_count": null,
            "_view_module": "@jupyter-widgets/base",
            "_view_module_version": "1.2.0",
            "_view_name": "LayoutView",
            "align_content": null,
            "align_items": null,
            "align_self": null,
            "border": null,
            "bottom": null,
            "display": null,
            "flex": null,
            "flex_flow": null,
            "grid_area": null,
            "grid_auto_columns": null,
            "grid_auto_flow": null,
            "grid_auto_rows": null,
            "grid_column": null,
            "grid_gap": null,
            "grid_row": null,
            "grid_template_areas": null,
            "grid_template_columns": null,
            "grid_template_rows": null,
            "height": null,
            "justify_content": null,
            "justify_items": null,
            "left": null,
            "margin": null,
            "max_height": null,
            "max_width": null,
            "min_height": null,
            "min_width": null,
            "object_fit": null,
            "object_position": null,
            "order": null,
            "overflow": null,
            "overflow_x": null,
            "overflow_y": null,
            "padding": null,
            "right": null,
            "top": null,
            "visibility": null,
            "width": null
          }
        },
        "8fc01288aa6945e4b5fde44bc8a6ec75": {
          "model_module": "@jupyter-widgets/controls",
          "model_module_version": "1.5.0",
          "model_name": "LabelModel",
          "state": {
            "_dom_classes": [],
            "_model_module": "@jupyter-widgets/controls",
            "_model_module_version": "1.5.0",
            "_model_name": "LabelModel",
            "_view_count": null,
            "_view_module": "@jupyter-widgets/controls",
            "_view_module_version": "1.5.0",
            "_view_name": "LabelView",
            "description": "",
            "description_tooltip": null,
            "layout": "IPY_MODEL_87644cfdd138487ab5c49f0124fe2a8d",
            "placeholder": "​",
            "style": "IPY_MODEL_febbf6c2a82e47d693f74487df4f6543",
            "value": "0.020 MB of 0.020 MB uploaded\r"
          }
        },
        "ae6c382aa3e841ef8509fef4c2fae1d9": {
          "model_module": "@jupyter-widgets/controls",
          "model_module_version": "1.5.0",
          "model_name": "FloatProgressModel",
          "state": {
            "_dom_classes": [],
            "_model_module": "@jupyter-widgets/controls",
            "_model_module_version": "1.5.0",
            "_model_name": "FloatProgressModel",
            "_view_count": null,
            "_view_module": "@jupyter-widgets/controls",
            "_view_module_version": "1.5.0",
            "_view_name": "ProgressView",
            "bar_style": "",
            "description": "",
            "description_tooltip": null,
            "layout": "IPY_MODEL_4a6509c5f1bd475a935bb21bee2b282a",
            "max": 1,
            "min": 0,
            "orientation": "horizontal",
            "style": "IPY_MODEL_0e9522832af64427adc8e01f9d8d2274",
            "value": 1
          }
        },
        "afee94fec2294dfa89ed87b46ed0c6dd": {
          "model_module": "@jupyter-widgets/base",
          "model_module_version": "1.2.0",
          "model_name": "LayoutModel",
          "state": {
            "_model_module": "@jupyter-widgets/base",
            "_model_module_version": "1.2.0",
            "_model_name": "LayoutModel",
            "_view_count": null,
            "_view_module": "@jupyter-widgets/base",
            "_view_module_version": "1.2.0",
            "_view_name": "LayoutView",
            "align_content": null,
            "align_items": null,
            "align_self": null,
            "border": null,
            "bottom": null,
            "display": null,
            "flex": null,
            "flex_flow": null,
            "grid_area": null,
            "grid_auto_columns": null,
            "grid_auto_flow": null,
            "grid_auto_rows": null,
            "grid_column": null,
            "grid_gap": null,
            "grid_row": null,
            "grid_template_areas": null,
            "grid_template_columns": null,
            "grid_template_rows": null,
            "height": null,
            "justify_content": null,
            "justify_items": null,
            "left": null,
            "margin": null,
            "max_height": null,
            "max_width": null,
            "min_height": null,
            "min_width": null,
            "object_fit": null,
            "object_position": null,
            "order": null,
            "overflow": null,
            "overflow_x": null,
            "overflow_y": null,
            "padding": null,
            "right": null,
            "top": null,
            "visibility": null,
            "width": null
          }
        },
        "bb1c48720c8844c1bf07051300eaf3ed": {
          "model_module": "@jupyter-widgets/base",
          "model_module_version": "1.2.0",
          "model_name": "LayoutModel",
          "state": {
            "_model_module": "@jupyter-widgets/base",
            "_model_module_version": "1.2.0",
            "_model_name": "LayoutModel",
            "_view_count": null,
            "_view_module": "@jupyter-widgets/base",
            "_view_module_version": "1.2.0",
            "_view_name": "LayoutView",
            "align_content": null,
            "align_items": null,
            "align_self": null,
            "border": null,
            "bottom": null,
            "display": null,
            "flex": null,
            "flex_flow": null,
            "grid_area": null,
            "grid_auto_columns": null,
            "grid_auto_flow": null,
            "grid_auto_rows": null,
            "grid_column": null,
            "grid_gap": null,
            "grid_row": null,
            "grid_template_areas": null,
            "grid_template_columns": null,
            "grid_template_rows": null,
            "height": null,
            "justify_content": null,
            "justify_items": null,
            "left": null,
            "margin": null,
            "max_height": null,
            "max_width": null,
            "min_height": null,
            "min_width": null,
            "object_fit": null,
            "object_position": null,
            "order": null,
            "overflow": null,
            "overflow_x": null,
            "overflow_y": null,
            "padding": null,
            "right": null,
            "top": null,
            "visibility": null,
            "width": null
          }
        },
        "d5db689346534fa6bc936d9e6672d3c1": {
          "model_module": "@jupyter-widgets/base",
          "model_module_version": "1.2.0",
          "model_name": "LayoutModel",
          "state": {
            "_model_module": "@jupyter-widgets/base",
            "_model_module_version": "1.2.0",
            "_model_name": "LayoutModel",
            "_view_count": null,
            "_view_module": "@jupyter-widgets/base",
            "_view_module_version": "1.2.0",
            "_view_name": "LayoutView",
            "align_content": null,
            "align_items": null,
            "align_self": null,
            "border": null,
            "bottom": null,
            "display": null,
            "flex": null,
            "flex_flow": null,
            "grid_area": null,
            "grid_auto_columns": null,
            "grid_auto_flow": null,
            "grid_auto_rows": null,
            "grid_column": null,
            "grid_gap": null,
            "grid_row": null,
            "grid_template_areas": null,
            "grid_template_columns": null,
            "grid_template_rows": null,
            "height": null,
            "justify_content": null,
            "justify_items": null,
            "left": null,
            "margin": null,
            "max_height": null,
            "max_width": null,
            "min_height": null,
            "min_width": null,
            "object_fit": null,
            "object_position": null,
            "order": null,
            "overflow": null,
            "overflow_x": null,
            "overflow_y": null,
            "padding": null,
            "right": null,
            "top": null,
            "visibility": null,
            "width": null
          }
        },
        "d84a96a42e314cd5b2ffad455572e921": {
          "model_module": "@jupyter-widgets/base",
          "model_module_version": "1.2.0",
          "model_name": "LayoutModel",
          "state": {
            "_model_module": "@jupyter-widgets/base",
            "_model_module_version": "1.2.0",
            "_model_name": "LayoutModel",
            "_view_count": null,
            "_view_module": "@jupyter-widgets/base",
            "_view_module_version": "1.2.0",
            "_view_name": "LayoutView",
            "align_content": null,
            "align_items": null,
            "align_self": null,
            "border": null,
            "bottom": null,
            "display": null,
            "flex": null,
            "flex_flow": null,
            "grid_area": null,
            "grid_auto_columns": null,
            "grid_auto_flow": null,
            "grid_auto_rows": null,
            "grid_column": null,
            "grid_gap": null,
            "grid_row": null,
            "grid_template_areas": null,
            "grid_template_columns": null,
            "grid_template_rows": null,
            "height": null,
            "justify_content": null,
            "justify_items": null,
            "left": null,
            "margin": null,
            "max_height": null,
            "max_width": null,
            "min_height": null,
            "min_width": null,
            "object_fit": null,
            "object_position": null,
            "order": null,
            "overflow": null,
            "overflow_x": null,
            "overflow_y": null,
            "padding": null,
            "right": null,
            "top": null,
            "visibility": null,
            "width": null
          }
        },
        "ec96b21141e84b1d8a8c68940c9e799e": {
          "model_module": "@jupyter-widgets/controls",
          "model_module_version": "1.5.0",
          "model_name": "DescriptionStyleModel",
          "state": {
            "_model_module": "@jupyter-widgets/controls",
            "_model_module_version": "1.5.0",
            "_model_name": "DescriptionStyleModel",
            "_view_count": null,
            "_view_module": "@jupyter-widgets/base",
            "_view_module_version": "1.2.0",
            "_view_name": "StyleView",
            "description_width": ""
          }
        },
        "f00b6fb6107e405896d32e82dd4c5e0a": {
          "model_module": "@jupyter-widgets/controls",
          "model_module_version": "1.5.0",
          "model_name": "DescriptionStyleModel",
          "state": {
            "_model_module": "@jupyter-widgets/controls",
            "_model_module_version": "1.5.0",
            "_model_name": "DescriptionStyleModel",
            "_view_count": null,
            "_view_module": "@jupyter-widgets/base",
            "_view_module_version": "1.2.0",
            "_view_name": "StyleView",
            "description_width": ""
          }
        },
        "f5353b6e7f4e48e494abe84bf8ff1076": {
          "model_module": "@jupyter-widgets/base",
          "model_module_version": "1.2.0",
          "model_name": "LayoutModel",
          "state": {
            "_model_module": "@jupyter-widgets/base",
            "_model_module_version": "1.2.0",
            "_model_name": "LayoutModel",
            "_view_count": null,
            "_view_module": "@jupyter-widgets/base",
            "_view_module_version": "1.2.0",
            "_view_name": "LayoutView",
            "align_content": null,
            "align_items": null,
            "align_self": null,
            "border": null,
            "bottom": null,
            "display": null,
            "flex": null,
            "flex_flow": null,
            "grid_area": null,
            "grid_auto_columns": null,
            "grid_auto_flow": null,
            "grid_auto_rows": null,
            "grid_column": null,
            "grid_gap": null,
            "grid_row": null,
            "grid_template_areas": null,
            "grid_template_columns": null,
            "grid_template_rows": null,
            "height": null,
            "justify_content": null,
            "justify_items": null,
            "left": null,
            "margin": null,
            "max_height": null,
            "max_width": null,
            "min_height": null,
            "min_width": null,
            "object_fit": null,
            "object_position": null,
            "order": null,
            "overflow": null,
            "overflow_x": null,
            "overflow_y": null,
            "padding": null,
            "right": null,
            "top": null,
            "visibility": null,
            "width": null
          }
        },
        "febbf6c2a82e47d693f74487df4f6543": {
          "model_module": "@jupyter-widgets/controls",
          "model_module_version": "1.5.0",
          "model_name": "DescriptionStyleModel",
          "state": {
            "_model_module": "@jupyter-widgets/controls",
            "_model_module_version": "1.5.0",
            "_model_name": "DescriptionStyleModel",
            "_view_count": null,
            "_view_module": "@jupyter-widgets/base",
            "_view_module_version": "1.2.0",
            "_view_name": "StyleView",
            "description_width": ""
          }
        }
      }
    }
  },
  "nbformat": 4,
  "nbformat_minor": 0
}
