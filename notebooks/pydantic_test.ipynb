{
 "cells": [
  {
   "cell_type": "code",
   "execution_count": 1,
   "metadata": {},
   "outputs": [],
   "source": [
    "# load env with api keys https://stackoverflow.com/a/54028874\n",
    "%load_ext dotenv\n",
    "%dotenv ../etc/config.env\n",
    "\n",
    "import sys\n",
    "sys.path.append(\"../\")\n",
    "\n",
    "import os\n",
    "from langchain.prompts import ChatPromptTemplate, HumanMessagePromptTemplate\n",
    "from langchain.chat_models import ChatOpenAI\n",
    "\n",
    "from langchain.output_parsers import PydanticOutputParser\n",
    "from pydantic import BaseModel, Field\n",
    "from typing import List\n",
    "\n",
    "from desci_sense.parsers.base_parser import BaseParser\n",
    "from desci_sense.postprocessing.parser_utils import fix_json_string_with_backslashes\n",
    "from desci_sense.configs import init_config\n"
   ]
  },
  {
   "cell_type": "code",
   "execution_count": 2,
   "metadata": {},
   "outputs": [],
   "source": [
    "# Define a new Pydantic model with field descriptions and tailored for Twitter.\n",
    "class TwitterUser(BaseModel):\n",
    "    name: str = Field(description=\"Full name of the user.\")\n",
    "    handle: str = Field(description=\"Twitter handle of the user, without the '@'.\")\n",
    "    age: int = Field(description=\"Age of the user.\")\n",
    "    hobbies: List[str] = Field(description=\"List of hobbies of the user.\")\n",
    "    email: str = Field(description=\"Email address of the user.\")\n",
    "    bio: str = Field(description=\"Bio or short description about the user.\")\n",
    "    location: str = Field(description=\"Location or region where the user resides.\")\n",
    "    is_blue_badge: bool = Field(\n",
    "        description=\"Boolean indicating if the user has a verified blue badge.\"\n",
    "    )\n",
    "    joined: str = Field(description=\"Date the user joined Twitter.\")\n",
    "    gender: str = Field(description=\"Gender of the user.\")\n",
    "    appearance: str = Field(description=\"Physical description of the user.\")\n",
    "    avatar_prompt: str = Field(\n",
    "        description=\"Prompt for generating a photorealistic avatar image. The image should capture the essence of the user's appearance description, ideally in a setting that aligns with their interests or bio. Use professional equipment to ensure high quality and fine details.\"\n",
    "    )\n",
    "    banner_prompt: str = Field(\n",
    "        description=\"Prompt for generating a banner image. This image should represent the user's hobbies, interests, or the essence of their bio. It should be high-resolution and captivating, suitable for a Twitter profile banner.\"\n",
    "    )"
   ]
  },
  {
   "cell_type": "code",
   "execution_count": 3,
   "metadata": {},
   "outputs": [],
   "source": [
    "# Instantiate the parser with the new model.\n",
    "parser = PydanticOutputParser(pydantic_object=TwitterUser)\n",
    "\n",
    "# Update the prompt to match the new query and desired format.\n",
    "prompt = ChatPromptTemplate(\n",
    "    messages=[\n",
    "        HumanMessagePromptTemplate.from_template(\n",
    "            \"answer the users question as best as possible.\\n{format_instructions}\\n{question}\"\n",
    "        )\n",
    "    ],\n",
    "    input_variables=[\"question\"],\n",
    "    partial_variables={\n",
    "        \"format_instructions\": parser.get_format_instructions(),\n",
    "    },\n",
    ")"
   ]
  },
  {
   "cell_type": "code",
   "execution_count": 4,
   "metadata": {},
   "outputs": [
    {
     "data": {
      "text/plain": [
       "'The output should be formatted as a JSON instance that conforms to the JSON schema below.\\n\\nAs an example, for the schema {\"properties\": {\"foo\": {\"title\": \"Foo\", \"description\": \"a list of strings\", \"type\": \"array\", \"items\": {\"type\": \"string\"}}}, \"required\": [\"foo\"]}\\nthe object {\"foo\": [\"bar\", \"baz\"]} is a well-formatted instance of the schema. The object {\"properties\": {\"foo\": [\"bar\", \"baz\"]}} is not well-formatted.\\n\\nHere is the output schema:\\n```\\n{\"properties\": {\"name\": {\"title\": \"Name\", \"description\": \"Full name of the user.\", \"type\": \"string\"}, \"handle\": {\"title\": \"Handle\", \"description\": \"Twitter handle of the user, without the \\'@\\'.\", \"type\": \"string\"}, \"age\": {\"title\": \"Age\", \"description\": \"Age of the user.\", \"type\": \"integer\"}, \"hobbies\": {\"title\": \"Hobbies\", \"description\": \"List of hobbies of the user.\", \"type\": \"array\", \"items\": {\"type\": \"string\"}}, \"email\": {\"title\": \"Email\", \"description\": \"Email address of the user.\", \"type\": \"string\"}, \"bio\": {\"title\": \"Bio\", \"description\": \"Bio or short description about the user.\", \"type\": \"string\"}, \"location\": {\"title\": \"Location\", \"description\": \"Location or region where the user resides.\", \"type\": \"string\"}, \"is_blue_badge\": {\"title\": \"Is Blue Badge\", \"description\": \"Boolean indicating if the user has a verified blue badge.\", \"type\": \"boolean\"}, \"joined\": {\"title\": \"Joined\", \"description\": \"Date the user joined Twitter.\", \"type\": \"string\"}, \"gender\": {\"title\": \"Gender\", \"description\": \"Gender of the user.\", \"type\": \"string\"}, \"appearance\": {\"title\": \"Appearance\", \"description\": \"Physical description of the user.\", \"type\": \"string\"}, \"avatar_prompt\": {\"title\": \"Avatar Prompt\", \"description\": \"Prompt for generating a photorealistic avatar image. The image should capture the essence of the user\\'s appearance description, ideally in a setting that aligns with their interests or bio. Use professional equipment to ensure high quality and fine details.\", \"type\": \"string\"}, \"banner_prompt\": {\"title\": \"Banner Prompt\", \"description\": \"Prompt for generating a banner image. This image should represent the user\\'s hobbies, interests, or the essence of their bio. It should be high-resolution and captivating, suitable for a Twitter profile banner.\", \"type\": \"string\"}}, \"required\": [\"name\", \"handle\", \"age\", \"hobbies\", \"email\", \"bio\", \"location\", \"is_blue_badge\", \"joined\", \"gender\", \"appearance\", \"avatar_prompt\", \"banner_prompt\"]}\\n```'"
      ]
     },
     "execution_count": 4,
     "metadata": {},
     "output_type": "execute_result"
    }
   ],
   "source": [
    "parser.get_format_instructions()"
   ]
  },
  {
   "cell_type": "code",
   "execution_count": 5,
   "metadata": {},
   "outputs": [
    {
     "name": "stdout",
     "output_type": "stream",
     "text": [
      "[HumanMessage(content='answer the users question as best as possible.\\nThe output should be formatted as a JSON instance that conforms to the JSON schema below.\\n\\nAs an example, for the schema {\"properties\": {\"foo\": {\"title\": \"Foo\", \"description\": \"a list of strings\", \"type\": \"array\", \"items\": {\"type\": \"string\"}}}, \"required\": [\"foo\"]}\\nthe object {\"foo\": [\"bar\", \"baz\"]} is a well-formatted instance of the schema. The object {\"properties\": {\"foo\": [\"bar\", \"baz\"]}} is not well-formatted.\\n\\nHere is the output schema:\\n```\\n{\"properties\": {\"name\": {\"title\": \"Name\", \"description\": \"Full name of the user.\", \"type\": \"string\"}, \"handle\": {\"title\": \"Handle\", \"description\": \"Twitter handle of the user, without the \\'@\\'.\", \"type\": \"string\"}, \"age\": {\"title\": \"Age\", \"description\": \"Age of the user.\", \"type\": \"integer\"}, \"hobbies\": {\"title\": \"Hobbies\", \"description\": \"List of hobbies of the user.\", \"type\": \"array\", \"items\": {\"type\": \"string\"}}, \"email\": {\"title\": \"Email\", \"description\": \"Email address of the user.\", \"type\": \"string\"}, \"bio\": {\"title\": \"Bio\", \"description\": \"Bio or short description about the user.\", \"type\": \"string\"}, \"location\": {\"title\": \"Location\", \"description\": \"Location or region where the user resides.\", \"type\": \"string\"}, \"is_blue_badge\": {\"title\": \"Is Blue Badge\", \"description\": \"Boolean indicating if the user has a verified blue badge.\", \"type\": \"boolean\"}, \"joined\": {\"title\": \"Joined\", \"description\": \"Date the user joined Twitter.\", \"type\": \"string\"}, \"gender\": {\"title\": \"Gender\", \"description\": \"Gender of the user.\", \"type\": \"string\"}, \"appearance\": {\"title\": \"Appearance\", \"description\": \"Physical description of the user.\", \"type\": \"string\"}, \"avatar_prompt\": {\"title\": \"Avatar Prompt\", \"description\": \"Prompt for generating a photorealistic avatar image. The image should capture the essence of the user\\'s appearance description, ideally in a setting that aligns with their interests or bio. Use professional equipment to ensure high quality and fine details.\", \"type\": \"string\"}, \"banner_prompt\": {\"title\": \"Banner Prompt\", \"description\": \"Prompt for generating a banner image. This image should represent the user\\'s hobbies, interests, or the essence of their bio. It should be high-resolution and captivating, suitable for a Twitter profile banner.\", \"type\": \"string\"}}, \"required\": [\"name\", \"handle\", \"age\", \"hobbies\", \"email\", \"bio\", \"location\", \"is_blue_badge\", \"joined\", \"gender\", \"appearance\", \"avatar_prompt\", \"banner_prompt\"]}\\n```\\nGenerate a detailed Twitter profile of a random realistic user with a diverse background, from any country in the world, original name, including prompts for images. Come up with real name, never use most popular placeholders like john smith and john doe.')]\n"
     ]
    }
   ],
   "source": [
    "# Generate the input using the updated prompt.\n",
    "user_query = (\n",
    "    \"Generate a detailed Twitter profile of a random realistic user with a diverse background, \"\n",
    "    \"from any country in the world, original name, including prompts for images. Come up with \"\n",
    "    \"real name, never use most popular placeholders like john smith and john doe.\"\n",
    ")\n",
    "_input = prompt.format_prompt(question=user_query)\n",
    "print(_input.to_messages())"
   ]
  },
  {
   "cell_type": "code",
   "execution_count": 6,
   "metadata": {},
   "outputs": [
    {
     "name": "stderr",
     "output_type": "stream",
     "text": [
      "WARNING! headers is not default parameter.\n",
      "                    headers was transferred to model_kwargs.\n",
      "                    Please confirm that headers is what you intended.\n"
     ]
    }
   ],
   "source": [
    "\n",
    "\n",
    "\n",
    "config = init_config()\n",
    "nano_parser = BaseParser(config=config)\n"
   ]
  },
  {
   "cell_type": "code",
   "execution_count": 7,
   "metadata": {},
   "outputs": [],
   "source": [
    "chat_model = nano_parser.model"
   ]
  },
  {
   "cell_type": "code",
   "execution_count": 8,
   "metadata": {},
   "outputs": [
    {
     "ename": "AttributeError",
     "evalue": "'AIMessage' object has no attribute 'con'",
     "output_type": "error",
     "traceback": [
      "\u001b[0;31m---------------------------------------------------------------------------\u001b[0m",
      "\u001b[0;31mAttributeError\u001b[0m                            Traceback (most recent call last)",
      "Cell \u001b[0;32mIn[8], line 2\u001b[0m\n\u001b[1;32m      1\u001b[0m output \u001b[38;5;241m=\u001b[39m chat_model(_input\u001b[38;5;241m.\u001b[39mto_messages())\n\u001b[0;32m----> 2\u001b[0m fixed_content \u001b[38;5;241m=\u001b[39m fix_json_string_with_backslashes(output\u001b[38;5;241m.\u001b[39mcon)\n\u001b[1;32m      3\u001b[0m parsed \u001b[38;5;241m=\u001b[39m parser\u001b[38;5;241m.\u001b[39mparse(fixed_content)\n\u001b[1;32m      4\u001b[0m \u001b[38;5;28mprint\u001b[39m(output\u001b[38;5;241m.\u001b[39mcontent)\n",
      "\u001b[0;31mAttributeError\u001b[0m: 'AIMessage' object has no attribute 'con'"
     ]
    }
   ],
   "source": [
    "output = chat_model(_input.to_messages())\n",
    "fixed_content = fix_json_string_with_backslashes(output.content)\n",
    "parsed = parser.parse(fixed_content)\n",
    "print(output.content)\n",
    "print(parsed)"
   ]
  },
  {
   "cell_type": "code",
   "execution_count": 14,
   "metadata": {},
   "outputs": [
    {
     "name": "stderr",
     "output_type": "stream",
     "text": [
      "WARNING! headers is not default parameter.\n",
      "                    headers was transferred to model_kwargs.\n",
      "                    Please confirm that headers is what you intended.\n"
     ]
    },
    {
     "ename": "OutputParserException",
     "evalue": "Failed to parse TwitterUser from completion {\n\"name\": \"Ava Rodriguez\",\n\"handle\": \"avarodriguez\",\n\"age\": 27,\n\"hobbies\": [\"traveling\", \"photography\", \"cooking\", \"reading\"],\n\"email\": \"avarodriguez@email.com\",\n\"bio\": \"A wanderlust-filled, food-loving, bookworm from Spain. Always up for new adventures and exploring different cultures!\",\n\"location\": \"Barcelona, Spain\",\n\"is\\_blue\\_badge\": true,\n\"joined\": \"June 2010\",\n\"gender\": \"Female\",\n\"appearance\": \"Curly brown hair, dark eyes, freckles and a slim build, with a warm smile and a friendly demeanor.\",\n\"avatar\\_prompt\": \"A photorealistic portrait of Ava, captured in a serene beach setting, with a vibrant and colorful background that reflects her adventurous spirit and love for photography.\",\n\"banner\\_prompt\": \"A banner image that showcases Ava's passion for cooking and exploring different cuisines, with a beautiful kitchen setup and colorful ingredients in the background, surrounded by a cozy and inviting atmosphere.\"\n}. Got: Invalid \\escape: line 9 column 4 (char 325)",
     "output_type": "error",
     "traceback": [
      "\u001b[0;31m---------------------------------------------------------------------------\u001b[0m",
      "\u001b[0;31mJSONDecodeError\u001b[0m                           Traceback (most recent call last)",
      "File \u001b[0;32m~/anaconda3/envs/twscraping/lib/python3.11/site-packages/langchain/output_parsers/pydantic.py:27\u001b[0m, in \u001b[0;36mPydanticOutputParser.parse\u001b[0;34m(self, text)\u001b[0m\n\u001b[1;32m     26\u001b[0m     json_str \u001b[38;5;241m=\u001b[39m match\u001b[38;5;241m.\u001b[39mgroup()\n\u001b[0;32m---> 27\u001b[0m json_object \u001b[38;5;241m=\u001b[39m json\u001b[38;5;241m.\u001b[39mloads(json_str, strict\u001b[38;5;241m=\u001b[39m\u001b[38;5;28;01mFalse\u001b[39;00m)\n\u001b[1;32m     28\u001b[0m \u001b[38;5;28;01mreturn\u001b[39;00m \u001b[38;5;28mself\u001b[39m\u001b[38;5;241m.\u001b[39mpydantic_object\u001b[38;5;241m.\u001b[39mparse_obj(json_object)\n",
      "File \u001b[0;32m~/anaconda3/envs/twscraping/lib/python3.11/json/__init__.py:359\u001b[0m, in \u001b[0;36mloads\u001b[0;34m(s, cls, object_hook, parse_float, parse_int, parse_constant, object_pairs_hook, **kw)\u001b[0m\n\u001b[1;32m    358\u001b[0m     kw[\u001b[38;5;124m'\u001b[39m\u001b[38;5;124mparse_constant\u001b[39m\u001b[38;5;124m'\u001b[39m] \u001b[38;5;241m=\u001b[39m parse_constant\n\u001b[0;32m--> 359\u001b[0m \u001b[38;5;28;01mreturn\u001b[39;00m \u001b[38;5;28mcls\u001b[39m(\u001b[38;5;241m*\u001b[39m\u001b[38;5;241m*\u001b[39mkw)\u001b[38;5;241m.\u001b[39mdecode(s)\n",
      "File \u001b[0;32m~/anaconda3/envs/twscraping/lib/python3.11/json/decoder.py:337\u001b[0m, in \u001b[0;36mJSONDecoder.decode\u001b[0;34m(self, s, _w)\u001b[0m\n\u001b[1;32m    333\u001b[0m \u001b[38;5;250m\u001b[39m\u001b[38;5;124;03m\"\"\"Return the Python representation of ``s`` (a ``str`` instance\u001b[39;00m\n\u001b[1;32m    334\u001b[0m \u001b[38;5;124;03mcontaining a JSON document).\u001b[39;00m\n\u001b[1;32m    335\u001b[0m \n\u001b[1;32m    336\u001b[0m \u001b[38;5;124;03m\"\"\"\u001b[39;00m\n\u001b[0;32m--> 337\u001b[0m obj, end \u001b[38;5;241m=\u001b[39m \u001b[38;5;28mself\u001b[39m\u001b[38;5;241m.\u001b[39mraw_decode(s, idx\u001b[38;5;241m=\u001b[39m_w(s, \u001b[38;5;241m0\u001b[39m)\u001b[38;5;241m.\u001b[39mend())\n\u001b[1;32m    338\u001b[0m end \u001b[38;5;241m=\u001b[39m _w(s, end)\u001b[38;5;241m.\u001b[39mend()\n",
      "File \u001b[0;32m~/anaconda3/envs/twscraping/lib/python3.11/json/decoder.py:353\u001b[0m, in \u001b[0;36mJSONDecoder.raw_decode\u001b[0;34m(self, s, idx)\u001b[0m\n\u001b[1;32m    352\u001b[0m \u001b[38;5;28;01mtry\u001b[39;00m:\n\u001b[0;32m--> 353\u001b[0m     obj, end \u001b[38;5;241m=\u001b[39m \u001b[38;5;28mself\u001b[39m\u001b[38;5;241m.\u001b[39mscan_once(s, idx)\n\u001b[1;32m    354\u001b[0m \u001b[38;5;28;01mexcept\u001b[39;00m \u001b[38;5;167;01mStopIteration\u001b[39;00m \u001b[38;5;28;01mas\u001b[39;00m err:\n",
      "\u001b[0;31mJSONDecodeError\u001b[0m: Invalid \\escape: line 9 column 4 (char 325)",
      "\nDuring handling of the above exception, another exception occurred:\n",
      "\u001b[0;31mOutputParserException\u001b[0m                     Traceback (most recent call last)",
      "Cell \u001b[0;32mIn[14], line 5\u001b[0m\n\u001b[1;32m      4\u001b[0m \u001b[38;5;28;01mtry\u001b[39;00m:\n\u001b[0;32m----> 5\u001b[0m     parsed \u001b[38;5;241m=\u001b[39m parser\u001b[38;5;241m.\u001b[39mparse(output\u001b[38;5;241m.\u001b[39mcontent)\n\u001b[1;32m      6\u001b[0m \u001b[38;5;28;01mexcept\u001b[39;00m OutputParserException \u001b[38;5;28;01mas\u001b[39;00m e:\n",
      "File \u001b[0;32m~/anaconda3/envs/twscraping/lib/python3.11/site-packages/langchain/output_parsers/pydantic.py:33\u001b[0m, in \u001b[0;36mPydanticOutputParser.parse\u001b[0;34m(self, text)\u001b[0m\n\u001b[1;32m     32\u001b[0m msg \u001b[38;5;241m=\u001b[39m \u001b[38;5;124mf\u001b[39m\u001b[38;5;124m\"\u001b[39m\u001b[38;5;124mFailed to parse \u001b[39m\u001b[38;5;132;01m{\u001b[39;00mname\u001b[38;5;132;01m}\u001b[39;00m\u001b[38;5;124m from completion \u001b[39m\u001b[38;5;132;01m{\u001b[39;00mtext\u001b[38;5;132;01m}\u001b[39;00m\u001b[38;5;124m. Got: \u001b[39m\u001b[38;5;132;01m{\u001b[39;00me\u001b[38;5;132;01m}\u001b[39;00m\u001b[38;5;124m\"\u001b[39m\n\u001b[0;32m---> 33\u001b[0m \u001b[38;5;28;01mraise\u001b[39;00m OutputParserException(msg, llm_output\u001b[38;5;241m=\u001b[39mtext)\n",
      "\u001b[0;31mOutputParserException\u001b[0m: Failed to parse TwitterUser from completion {\n\"name\": \"Ava Rodriguez\",\n\"handle\": \"avarodriguez\",\n\"age\": 27,\n\"hobbies\": [\"traveling\", \"photography\", \"cooking\", \"reading\"],\n\"email\": \"avarodriguez@email.com\",\n\"bio\": \"A wanderlust-filled, food-loving, bookworm from Spain. Always up for new adventures and exploring different cultures!\",\n\"location\": \"Barcelona, Spain\",\n\"is\\_blue\\_badge\": true,\n\"joined\": \"June 2010\",\n\"gender\": \"Female\",\n\"appearance\": \"Curly brown hair, dark eyes, freckles and a slim build, with a warm smile and a friendly demeanor.\",\n\"avatar\\_prompt\": \"A photorealistic portrait of Ava, captured in a serene beach setting, with a vibrant and colorful background that reflects her adventurous spirit and love for photography.\",\n\"banner\\_prompt\": \"A banner image that showcases Ava's passion for cooking and exploring different cuisines, with a beautiful kitchen setup and colorful ingredients in the background, surrounded by a cozy and inviting atmosphere.\"\n}. Got: Invalid \\escape: line 9 column 4 (char 325)",
      "\nDuring handling of the above exception, another exception occurred:\n",
      "\u001b[0;31mJSONDecodeError\u001b[0m                           Traceback (most recent call last)",
      "File \u001b[0;32m~/anaconda3/envs/twscraping/lib/python3.11/site-packages/langchain/output_parsers/pydantic.py:27\u001b[0m, in \u001b[0;36mPydanticOutputParser.parse\u001b[0;34m(self, text)\u001b[0m\n\u001b[1;32m     26\u001b[0m     json_str \u001b[38;5;241m=\u001b[39m match\u001b[38;5;241m.\u001b[39mgroup()\n\u001b[0;32m---> 27\u001b[0m json_object \u001b[38;5;241m=\u001b[39m json\u001b[38;5;241m.\u001b[39mloads(json_str, strict\u001b[38;5;241m=\u001b[39m\u001b[38;5;28;01mFalse\u001b[39;00m)\n\u001b[1;32m     28\u001b[0m \u001b[38;5;28;01mreturn\u001b[39;00m \u001b[38;5;28mself\u001b[39m\u001b[38;5;241m.\u001b[39mpydantic_object\u001b[38;5;241m.\u001b[39mparse_obj(json_object)\n",
      "File \u001b[0;32m~/anaconda3/envs/twscraping/lib/python3.11/json/__init__.py:359\u001b[0m, in \u001b[0;36mloads\u001b[0;34m(s, cls, object_hook, parse_float, parse_int, parse_constant, object_pairs_hook, **kw)\u001b[0m\n\u001b[1;32m    358\u001b[0m     kw[\u001b[38;5;124m'\u001b[39m\u001b[38;5;124mparse_constant\u001b[39m\u001b[38;5;124m'\u001b[39m] \u001b[38;5;241m=\u001b[39m parse_constant\n\u001b[0;32m--> 359\u001b[0m \u001b[38;5;28;01mreturn\u001b[39;00m \u001b[38;5;28mcls\u001b[39m(\u001b[38;5;241m*\u001b[39m\u001b[38;5;241m*\u001b[39mkw)\u001b[38;5;241m.\u001b[39mdecode(s)\n",
      "File \u001b[0;32m~/anaconda3/envs/twscraping/lib/python3.11/json/decoder.py:337\u001b[0m, in \u001b[0;36mJSONDecoder.decode\u001b[0;34m(self, s, _w)\u001b[0m\n\u001b[1;32m    333\u001b[0m \u001b[38;5;250m\u001b[39m\u001b[38;5;124;03m\"\"\"Return the Python representation of ``s`` (a ``str`` instance\u001b[39;00m\n\u001b[1;32m    334\u001b[0m \u001b[38;5;124;03mcontaining a JSON document).\u001b[39;00m\n\u001b[1;32m    335\u001b[0m \n\u001b[1;32m    336\u001b[0m \u001b[38;5;124;03m\"\"\"\u001b[39;00m\n\u001b[0;32m--> 337\u001b[0m obj, end \u001b[38;5;241m=\u001b[39m \u001b[38;5;28mself\u001b[39m\u001b[38;5;241m.\u001b[39mraw_decode(s, idx\u001b[38;5;241m=\u001b[39m_w(s, \u001b[38;5;241m0\u001b[39m)\u001b[38;5;241m.\u001b[39mend())\n\u001b[1;32m    338\u001b[0m end \u001b[38;5;241m=\u001b[39m _w(s, end)\u001b[38;5;241m.\u001b[39mend()\n",
      "File \u001b[0;32m~/anaconda3/envs/twscraping/lib/python3.11/json/decoder.py:353\u001b[0m, in \u001b[0;36mJSONDecoder.raw_decode\u001b[0;34m(self, s, idx)\u001b[0m\n\u001b[1;32m    352\u001b[0m \u001b[38;5;28;01mtry\u001b[39;00m:\n\u001b[0;32m--> 353\u001b[0m     obj, end \u001b[38;5;241m=\u001b[39m \u001b[38;5;28mself\u001b[39m\u001b[38;5;241m.\u001b[39mscan_once(s, idx)\n\u001b[1;32m    354\u001b[0m \u001b[38;5;28;01mexcept\u001b[39;00m \u001b[38;5;167;01mStopIteration\u001b[39;00m \u001b[38;5;28;01mas\u001b[39;00m err:\n",
      "\u001b[0;31mJSONDecodeError\u001b[0m: Invalid \\escape: line 9 column 4 (char 325)",
      "\nDuring handling of the above exception, another exception occurred:\n",
      "\u001b[0;31mOutputParserException\u001b[0m                     Traceback (most recent call last)",
      "Cell \u001b[0;32mIn[14], line 12\u001b[0m\n\u001b[1;32m      7\u001b[0m new_nano_parser \u001b[38;5;241m=\u001b[39m BaseParser(config\u001b[38;5;241m=\u001b[39mconfig)\n\u001b[1;32m      8\u001b[0m new_parser \u001b[38;5;241m=\u001b[39m OutputFixingParser\u001b[38;5;241m.\u001b[39mfrom_llm(\n\u001b[1;32m      9\u001b[0m     parser\u001b[38;5;241m=\u001b[39mparser,\n\u001b[1;32m     10\u001b[0m     llm\u001b[38;5;241m=\u001b[39mnew_nano_parser\u001b[38;5;241m.\u001b[39mmodel\n\u001b[1;32m     11\u001b[0m )\n\u001b[0;32m---> 12\u001b[0m parsed \u001b[38;5;241m=\u001b[39m new_parser\u001b[38;5;241m.\u001b[39mparse(output\u001b[38;5;241m.\u001b[39mcontent)\n",
      "File \u001b[0;32m~/anaconda3/envs/twscraping/lib/python3.11/site-packages/langchain/output_parsers/fix.py:59\u001b[0m, in \u001b[0;36mOutputFixingParser.parse\u001b[0;34m(self, completion)\u001b[0m\n\u001b[1;32m     57\u001b[0m \u001b[38;5;28;01mexcept\u001b[39;00m OutputParserException \u001b[38;5;28;01mas\u001b[39;00m e:\n\u001b[1;32m     58\u001b[0m     \u001b[38;5;28;01mif\u001b[39;00m retries \u001b[38;5;241m==\u001b[39m \u001b[38;5;28mself\u001b[39m\u001b[38;5;241m.\u001b[39mmax_retries:\n\u001b[0;32m---> 59\u001b[0m         \u001b[38;5;28;01mraise\u001b[39;00m e\n\u001b[1;32m     60\u001b[0m     \u001b[38;5;28;01melse\u001b[39;00m:\n\u001b[1;32m     61\u001b[0m         retries \u001b[38;5;241m+\u001b[39m\u001b[38;5;241m=\u001b[39m \u001b[38;5;241m1\u001b[39m\n",
      "File \u001b[0;32m~/anaconda3/envs/twscraping/lib/python3.11/site-packages/langchain/output_parsers/fix.py:56\u001b[0m, in \u001b[0;36mOutputFixingParser.parse\u001b[0;34m(self, completion)\u001b[0m\n\u001b[1;32m     54\u001b[0m \u001b[38;5;28;01mwhile\u001b[39;00m retries \u001b[38;5;241m<\u001b[39m\u001b[38;5;241m=\u001b[39m \u001b[38;5;28mself\u001b[39m\u001b[38;5;241m.\u001b[39mmax_retries:\n\u001b[1;32m     55\u001b[0m     \u001b[38;5;28;01mtry\u001b[39;00m:\n\u001b[0;32m---> 56\u001b[0m         \u001b[38;5;28;01mreturn\u001b[39;00m \u001b[38;5;28mself\u001b[39m\u001b[38;5;241m.\u001b[39mparser\u001b[38;5;241m.\u001b[39mparse(completion)\n\u001b[1;32m     57\u001b[0m     \u001b[38;5;28;01mexcept\u001b[39;00m OutputParserException \u001b[38;5;28;01mas\u001b[39;00m e:\n\u001b[1;32m     58\u001b[0m         \u001b[38;5;28;01mif\u001b[39;00m retries \u001b[38;5;241m==\u001b[39m \u001b[38;5;28mself\u001b[39m\u001b[38;5;241m.\u001b[39mmax_retries:\n",
      "File \u001b[0;32m~/anaconda3/envs/twscraping/lib/python3.11/site-packages/langchain/output_parsers/pydantic.py:33\u001b[0m, in \u001b[0;36mPydanticOutputParser.parse\u001b[0;34m(self, text)\u001b[0m\n\u001b[1;32m     31\u001b[0m name \u001b[38;5;241m=\u001b[39m \u001b[38;5;28mself\u001b[39m\u001b[38;5;241m.\u001b[39mpydantic_object\u001b[38;5;241m.\u001b[39m\u001b[38;5;18m__name__\u001b[39m\n\u001b[1;32m     32\u001b[0m msg \u001b[38;5;241m=\u001b[39m \u001b[38;5;124mf\u001b[39m\u001b[38;5;124m\"\u001b[39m\u001b[38;5;124mFailed to parse \u001b[39m\u001b[38;5;132;01m{\u001b[39;00mname\u001b[38;5;132;01m}\u001b[39;00m\u001b[38;5;124m from completion \u001b[39m\u001b[38;5;132;01m{\u001b[39;00mtext\u001b[38;5;132;01m}\u001b[39;00m\u001b[38;5;124m. Got: \u001b[39m\u001b[38;5;132;01m{\u001b[39;00me\u001b[38;5;132;01m}\u001b[39;00m\u001b[38;5;124m\"\u001b[39m\n\u001b[0;32m---> 33\u001b[0m \u001b[38;5;28;01mraise\u001b[39;00m OutputParserException(msg, llm_output\u001b[38;5;241m=\u001b[39mtext)\n",
      "\u001b[0;31mOutputParserException\u001b[0m: Failed to parse TwitterUser from completion {\n\"name\": \"Ava Rodriguez\",\n\"handle\": \"avarodriguez\",\n\"age\": 27,\n\"hobbies\": [\"traveling\", \"photography\", \"cooking\", \"reading\"],\n\"email\": \"avarodriguez@email.com\",\n\"bio\": \"A wanderlust-filled, food-loving, bookworm from Spain. Always up for new adventures and exploring different cultures!\",\n\"location\": \"Barcelona, Spain\",\n\"is\\_blue\\_badge\": true,\n\"joined\": \"June 2010\",\n\"gender\": \"Female\",\n\"appearance\": \"Curly brown hair, dark eyes, freckles and a slim build, with a warm smile and a friendly demeanor.\",\n\"avatar\\_prompt\": \"A photorealistic portrait of Ava, captured in a serene beach setting, with a vibrant and colorful background that reflects her adventurous spirit and love for photography.\",\n\"banner\\_prompt\": \"A banner image that showcases Ava's passion for cooking and exploring different cuisines, with a beautiful kitchen setup and colorful ingredients in the background, surrounded by a cozy and inviting atmosphere.\"\n}. Got: Invalid \\escape: line 9 column 4 (char 325)"
     ]
    }
   ],
   "source": [
    "from langchain.output_parsers import OutputFixingParser\n",
    "from langchain.schema import OutputParserException\n",
    "\n",
    "try:\n",
    "    parsed = parser.parse(output.content)\n",
    "except OutputParserException as e:\n",
    "    new_nano_parser = BaseParser(config=config)\n",
    "    new_parser = OutputFixingParser.from_llm(\n",
    "        parser=parser,\n",
    "        llm=new_nano_parser.model\n",
    "    )\n",
    "    parsed = new_parser.parse(output.content)"
   ]
  }
 ],
 "metadata": {
  "kernelspec": {
   "display_name": "twscraping",
   "language": "python",
   "name": "python3"
  },
  "language_info": {
   "codemirror_mode": {
    "name": "ipython",
    "version": 3
   },
   "file_extension": ".py",
   "mimetype": "text/x-python",
   "name": "python",
   "nbconvert_exporter": "python",
   "pygments_lexer": "ipython3",
   "version": "3.11.5"
  }
 },
 "nbformat": 4,
 "nbformat_minor": 2
}
